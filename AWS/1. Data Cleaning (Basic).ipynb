{
 "cells": [
  {
   "cell_type": "markdown",
   "metadata": {},
   "source": [
    "### Data Exploration and Cleanup (basic) script\n",
    "Our aim here is to understand our dataset and do a basic cleanup removing NaNs & Duplicates. \n"
   ]
  },
  {
   "cell_type": "code",
   "execution_count": 6,
   "metadata": {
    "editable": true,
    "execution": {
     "iopub.execute_input": "2025-07-30T15:57:20.198287Z",
     "iopub.status.busy": "2025-07-30T15:57:20.197709Z",
     "iopub.status.idle": "2025-07-30T15:57:35.928391Z",
     "shell.execute_reply": "2025-07-30T15:57:35.927402Z",
     "shell.execute_reply.started": "2025-07-30T15:57:20.198258Z"
    },
    "slideshow": {
     "slide_type": ""
    },
    "tags": [],
    "vscode": {
     "languageId": "python_glue_session"
    }
   },
   "outputs": [
    {
     "name": "stdout",
     "output_type": "stream",
     "text": [
      "Requirement already satisfied: boto3 in /opt/conda/lib/python3.12/site-packages (1.37.1)\n",
      "Requirement already satisfied: botocore<1.38.0,>=1.37.1 in /opt/conda/lib/python3.12/site-packages (from boto3) (1.37.1)\n",
      "Requirement already satisfied: jmespath<2.0.0,>=0.7.1 in /opt/conda/lib/python3.12/site-packages (from boto3) (1.0.1)\n",
      "Requirement already satisfied: s3transfer<0.12.0,>=0.11.0 in /opt/conda/lib/python3.12/site-packages (from boto3) (0.11.3)\n",
      "Requirement already satisfied: python-dateutil<3.0.0,>=2.1 in /opt/conda/lib/python3.12/site-packages (from botocore<1.38.0,>=1.37.1->boto3) (2.9.0.post0)\n",
      "Requirement already satisfied: urllib3!=2.2.0,<3,>=1.25.4 in /opt/conda/lib/python3.12/site-packages (from botocore<1.38.0,>=1.37.1->boto3) (1.26.19)\n",
      "Requirement already satisfied: six>=1.5 in /opt/conda/lib/python3.12/site-packages (from python-dateutil<3.0.0,>=2.1->botocore<1.38.0,>=1.37.1->boto3) (1.17.0)\n",
      "                    ts number   pick_lat   pick_lng   drop_lat   drop_lng\n",
      "0  2020-03-26 07:07:17  14626  12.313621  76.658195  12.287301  76.602280\n",
      "1  2020-03-26 07:32:27  85490  12.943947  77.560745  12.954014  77.543770\n",
      "2  2020-03-26 07:36:44  05408  12.899603  77.587300  12.934780  77.569950\n",
      "3  2020-03-26 07:38:00  58940  12.918229  77.607544  12.968971  77.636375\n",
      "4  2020-03-26 07:39:29  05408  12.899490  77.587270  12.934780  77.569950\n",
      "/tmp/1602819590716290095:116: DtypeWarning: Columns (1) have mixed types.Specify dtype option on import or set low_memory=False.\n",
      "  exec(code, global_dict)\n"
     ]
    }
   ],
   "source": [
    "!pip install boto3\n",
    "import boto3\n",
    "import pandas as pd\n",
    "import io\n",
    "import pandas as pd\n",
    "import numpy as np\n",
    "# Replace with your bucket and key\n",
    "bucket_name = 'demand-prediction-ola-rides'\n",
    "file_key = 'raw_data.csv'  # e.g. 'data/mydata.csv'\n",
    "\n",
    "# Create a Boto3 client\n",
    "s3 = boto3.client('s3')\n",
    "\n",
    "# Read the file content into a BytesIO object\n",
    "response = s3.get_object(Bucket=bucket_name, Key=file_key)\n",
    "content = response['Body'].read()\n",
    "\n",
    "\n",
    "\n",
    "\n",
    "# Convert to DataFrame\n",
    "df = pd.read_csv(io.BytesIO(content), compression='gzip')\n",
    "\n",
    "# Display the first few rows\n",
    "df.head(5)"
   ]
  },
  {
   "cell_type": "code",
   "execution_count": 4,
   "metadata": {
    "execution": {
     "iopub.execute_input": "2025-07-30T15:57:35.930091Z",
     "iopub.status.busy": "2025-07-30T15:57:35.929818Z",
     "iopub.status.idle": "2025-07-30T15:57:36.092980Z",
     "shell.execute_reply": "2025-07-30T15:57:36.092118Z",
     "shell.execute_reply.started": "2025-07-30T15:57:35.930064Z"
    },
    "vscode": {
     "languageId": "python_glue_session"
    }
   },
   "outputs": [
    {
     "name": "stdout",
     "output_type": "stream",
     "text": [
      "'1. Data Cleaning (Basic).ipynb'\t\t '5. Prediction Pipeline.ipynb'\n",
      "'2. Data Analysis and Cleaning (Advance).ipynb'   Untitled.ipynb\n",
      "'3. Data Prep.ipynb'\t\t\t\t  Untitled1.ipynb\n",
      "'4. Model_Training.ipynb'\t\t\t  requirements.txt\n"
     ]
    }
   ],
   "source": [
    "!ls"
   ]
  },
  {
   "cell_type": "markdown",
   "metadata": {},
   "source": [
    "#### Reading DataSet"
   ]
  },
  {
   "cell_type": "code",
   "execution_count": 7,
   "metadata": {
    "execution": {
     "iopub.execute_input": "2025-07-30T15:57:36.094748Z",
     "iopub.status.busy": "2025-07-30T15:57:36.094479Z",
     "iopub.status.idle": "2025-07-30T15:57:36.817322Z",
     "shell.execute_reply": "2025-07-30T15:57:36.816531Z",
     "shell.execute_reply.started": "2025-07-30T15:57:36.094723Z"
    },
    "vscode": {
     "languageId": "python_glue_session"
    }
   },
   "outputs": [
    {
     "name": "stdout",
     "output_type": "stream",
     "text": [
      "8381556\n"
     ]
    }
   ],
   "source": [
    "len(df)"
   ]
  },
  {
   "cell_type": "markdown",
   "metadata": {},
   "source": [
    "### A Customer_ID `number` at a particular timestamp can only have one entry\n",
    "### Removing Duplicate Entries ['ts','number']"
   ]
  },
  {
   "cell_type": "code",
   "execution_count": 8,
   "metadata": {
    "execution": {
     "iopub.execute_input": "2025-07-30T15:57:36.819633Z",
     "iopub.status.busy": "2025-07-30T15:57:36.819308Z",
     "iopub.status.idle": "2025-07-30T15:57:43.908367Z",
     "shell.execute_reply": "2025-07-30T15:57:43.907475Z",
     "shell.execute_reply.started": "2025-07-30T15:57:36.819609Z"
    },
    "vscode": {
     "languageId": "python_glue_session"
    }
   },
   "outputs": [
    {
     "name": "stdout",
     "output_type": "stream",
     "text": [
      "                          ts number   pick_lat   pick_lng   drop_lat   drop_lng\n",
      "235      2020-03-26 18:10:35  16795  12.967236  77.641594  13.014504  77.650856\n",
      "236      2020-03-26 18:10:35  16795  12.967236  77.641594  13.014504  77.650856\n",
      "407      2020-03-26 21:35:50  65856  12.917173  77.586400  12.913940  77.685280\n",
      "408      2020-03-26 21:35:50  65856  12.917173  77.586400  12.913940  77.685280\n",
      "443      2020-03-26 23:26:29  27554  12.933715  77.619300  12.938208  77.587520\n",
      "...                      ...    ...        ...        ...        ...        ...\n",
      "8381231  2021-03-26 22:23:12  61636  12.975229  77.620370  13.017285  77.618200\n",
      "8381245  2021-03-26 22:25:13  61636  12.975229  77.620370  13.017285  77.618200\n",
      "8381246  2021-03-26 22:25:13  61636  12.975229  77.620370  13.017285  77.618200\n",
      "8381248  2021-03-26 22:25:27  61636  12.975229  77.620370  13.017285  77.618200\n",
      "8381249  2021-03-26 22:25:27  61636  12.975229  77.620370  13.017285  77.618200\n",
      "\n",
      "[113540 rows x 6 columns]\n"
     ]
    }
   ],
   "source": [
    "df[df.duplicated(subset=['ts','number'],keep=False)]"
   ]
  },
  {
   "cell_type": "markdown",
   "metadata": {},
   "source": [
    "### There are 113540 Duplicate Entries\n",
    "#### We have 8315498 Unique timestamp, customer_id rows. "
   ]
  },
  {
   "cell_type": "code",
   "execution_count": 9,
   "metadata": {
    "execution": {
     "iopub.execute_input": "2025-07-30T15:57:43.909642Z",
     "iopub.status.busy": "2025-07-30T15:57:43.909380Z",
     "iopub.status.idle": "2025-07-30T15:57:50.896029Z",
     "shell.execute_reply": "2025-07-30T15:57:50.895339Z",
     "shell.execute_reply.started": "2025-07-30T15:57:43.909615Z"
    },
    "vscode": {
     "languageId": "python_glue_session"
    }
   },
   "outputs": [
    {
     "name": "stdout",
     "output_type": "stream",
     "text": [
      "\n"
     ]
    }
   ],
   "source": [
    "## Keeping first occurence\n",
    "df.drop_duplicates(subset=['ts','number'], inplace = True, keep = 'last')\n",
    "\n",
    "df.reset_index(inplace = True, drop = True)"
   ]
  },
  {
   "cell_type": "code",
   "execution_count": 10,
   "metadata": {
    "execution": {
     "iopub.execute_input": "2025-07-30T15:57:50.896969Z",
     "iopub.status.busy": "2025-07-30T15:57:50.896747Z",
     "iopub.status.idle": "2025-07-30T15:57:51.252314Z",
     "shell.execute_reply": "2025-07-30T15:57:51.251647Z",
     "shell.execute_reply.started": "2025-07-30T15:57:50.896951Z"
    },
    "vscode": {
     "languageId": "python_glue_session"
    }
   },
   "outputs": [
    {
     "name": "stdout",
     "output_type": "stream",
     "text": [
      "<class 'pandas.core.frame.DataFrame'>\n",
      "RangeIndex: 8315498 entries, 0 to 8315497\n",
      "Data columns (total 6 columns):\n",
      " #   Column    Dtype  \n",
      "---  ------    -----  \n",
      " 0   ts        object \n",
      " 1   number    object \n",
      " 2   pick_lat  float64\n",
      " 3   pick_lng  float64\n",
      " 4   drop_lat  float64\n",
      " 5   drop_lng  float64\n",
      "dtypes: float64(4), object(2)\n",
      "memory usage: 380.7+ MB\n"
     ]
    }
   ],
   "source": [
    "# Info of Dataset\n",
    "df.info()"
   ]
  },
  {
   "cell_type": "code",
   "execution_count": 11,
   "metadata": {
    "execution": {
     "iopub.execute_input": "2025-07-30T15:57:51.253712Z",
     "iopub.status.busy": "2025-07-30T15:57:51.253413Z",
     "iopub.status.idle": "2025-07-30T15:57:52.739647Z",
     "shell.execute_reply": "2025-07-30T15:57:52.738586Z",
     "shell.execute_reply.started": "2025-07-30T15:57:51.253684Z"
    },
    "vscode": {
     "languageId": "python_glue_session"
    }
   },
   "outputs": [
    {
     "name": "stdout",
     "output_type": "stream",
     "text": [
      "0\n"
     ]
    }
   ],
   "source": [
    "#Count missing values\n",
    "np.count_nonzero(df.isnull().values)"
   ]
  },
  {
   "cell_type": "code",
   "execution_count": 12,
   "metadata": {
    "execution": {
     "iopub.execute_input": "2025-07-30T15:57:52.741178Z",
     "iopub.status.busy": "2025-07-30T15:57:52.740861Z",
     "iopub.status.idle": "2025-07-30T15:57:56.387646Z",
     "shell.execute_reply": "2025-07-30T15:57:56.386768Z",
     "shell.execute_reply.started": "2025-07-30T15:57:52.741146Z"
    },
    "vscode": {
     "languageId": "python_glue_session"
    }
   },
   "outputs": [
    {
     "name": "stdout",
     "output_type": "stream",
     "text": [
      "116\n"
     ]
    }
   ],
   "source": [
    "df['number'] = pd.to_numeric(df['number'], errors = 'coerce')\n",
    "\n",
    "#Count missing values\n",
    "np.count_nonzero(df.isnull().values)"
   ]
  },
  {
   "cell_type": "markdown",
   "metadata": {},
   "source": [
    "#### There are 116 NaN rows, dropping NaN rows."
   ]
  },
  {
   "cell_type": "code",
   "execution_count": 13,
   "metadata": {
    "execution": {
     "iopub.execute_input": "2025-07-30T15:57:56.389799Z",
     "iopub.status.busy": "2025-07-30T15:57:56.389237Z",
     "iopub.status.idle": "2025-07-30T15:57:57.831100Z",
     "shell.execute_reply": "2025-07-30T15:57:57.830391Z",
     "shell.execute_reply.started": "2025-07-30T15:57:56.389776Z"
    },
    "vscode": {
     "languageId": "python_glue_session"
    }
   },
   "outputs": [
    {
     "name": "stdout",
     "output_type": "stream",
     "text": [
      "8315382\n"
     ]
    }
   ],
   "source": [
    "df.dropna(inplace = True)\n",
    "len(df)"
   ]
  },
  {
   "cell_type": "code",
   "execution_count": 14,
   "metadata": {
    "execution": {
     "iopub.execute_input": "2025-07-30T15:57:57.833278Z",
     "iopub.status.busy": "2025-07-30T15:57:57.832821Z",
     "iopub.status.idle": "2025-07-30T15:58:00.286280Z",
     "shell.execute_reply": "2025-07-30T15:58:00.285587Z",
     "shell.execute_reply.started": "2025-07-30T15:57:57.833250Z"
    },
    "vscode": {
     "languageId": "python_glue_session"
    }
   },
   "outputs": [
    {
     "name": "stdout",
     "output_type": "stream",
     "text": [
      "\n"
     ]
    }
   ],
   "source": [
    "df['number'] = pd.to_numeric(df['number'], errors = 'coerce', downcast='integer')\n",
    "df['ts'] = pd.to_datetime(df['ts'])"
   ]
  },
  {
   "cell_type": "code",
   "execution_count": 15,
   "metadata": {
    "execution": {
     "iopub.execute_input": "2025-07-30T15:58:00.287842Z",
     "iopub.status.busy": "2025-07-30T15:58:00.287299Z",
     "iopub.status.idle": "2025-07-30T15:58:00.603679Z",
     "shell.execute_reply": "2025-07-30T15:58:00.602883Z",
     "shell.execute_reply.started": "2025-07-30T15:58:00.287812Z"
    },
    "vscode": {
     "languageId": "python_glue_session"
    }
   },
   "outputs": [
    {
     "name": "stdout",
     "output_type": "stream",
     "text": [
      "<class 'pandas.core.frame.DataFrame'>\n",
      "Int64Index: 8315382 entries, 0 to 8315497\n",
      "Data columns (total 6 columns):\n",
      " #   Column    Dtype         \n",
      "---  ------    -----         \n",
      " 0   ts        datetime64[ns]\n",
      " 1   number    int32         \n",
      " 2   pick_lat  float64       \n",
      " 3   pick_lng  float64       \n",
      " 4   drop_lat  float64       \n",
      " 5   drop_lng  float64       \n",
      "dtypes: datetime64[ns](1), float64(4), int32(1)\n",
      "memory usage: 412.4 MB\n"
     ]
    }
   ],
   "source": [
    "# Info of Dataset\n",
    "df.info()"
   ]
  },
  {
   "cell_type": "markdown",
   "metadata": {},
   "source": [
    "### Breaking Time to Features"
   ]
  },
  {
   "cell_type": "code",
   "execution_count": 16,
   "metadata": {
    "execution": {
     "iopub.execute_input": "2025-07-30T15:58:00.604819Z",
     "iopub.status.busy": "2025-07-30T15:58:00.604500Z",
     "iopub.status.idle": "2025-07-30T15:58:05.408173Z",
     "shell.execute_reply": "2025-07-30T15:58:05.407118Z",
     "shell.execute_reply.started": "2025-07-30T15:58:00.604797Z"
    },
    "vscode": {
     "languageId": "python_glue_session"
    }
   },
   "outputs": [
    {
     "name": "stdout",
     "output_type": "stream",
     "text": [
      "\n"
     ]
    }
   ],
   "source": [
    "df['hour'] = df['ts'].dt.hour\n",
    "df['mins'] = df['ts'].dt.minute\n",
    "df['day'] = df['ts'].dt.day\n",
    "df['month'] = df['ts'].dt.month\n",
    "df['year'] = df['ts'].dt.year\n",
    "df['dayofweek'] = df['ts'].dt.dayofweek"
   ]
  },
  {
   "cell_type": "code",
   "execution_count": null,
   "metadata": {
    "execution": {
     "iopub.execute_input": "2025-07-30T15:58:05.409199Z",
     "iopub.status.busy": "2025-07-30T15:58:05.408982Z",
     "iopub.status.idle": "2025-07-30T16:00:36.034736Z"
    },
    "vscode": {
     "languageId": "python_glue_session"
    }
   },
   "outputs": [
    {
     "name": "stdout",
     "output_type": "stream",
     "text": [
      "In-memory gzip-compressed CSV uploaded successfully!\n"
     ]
    }
   ],
   "source": [
    "import io\n",
    "import boto3\n",
    "\n",
    "# Assuming df is your DataFrame and s3 client and bucket_name defined\n",
    "\n",
    "buffer = io.BytesIO()\n",
    "df.to_csv(buffer, index=False, compression='gzip')  # <-- Add compression here\n",
    "buffer.seek(0)  # Reset pointer to start\n",
    "\n",
    "# Upload to S3\n",
    "s3.put_object(Bucket=bucket_name, Key='processed/preprocessed_11.csv.gz', Body=buffer.getvalue())\n",
    "\n",
    "print(\"In-memory gzip-compressed CSV uploaded successfully!\")\n"
   ]
  },
  {
   "cell_type": "code",
   "execution_count": null,
   "metadata": {
    "execution": {
     "iopub.execute_input": "2025-07-30T16:00:36.035920Z",
     "iopub.status.busy": "2025-07-30T16:00:36.035561Z",
     "iopub.status.idle": "2025-07-30T16:00:36.331588Z"
    },
    "vscode": {
     "languageId": "python_glue_session"
    }
   },
   "outputs": [
    {
     "name": "stdout",
     "output_type": "stream",
     "text": [
      "Size in MB: 105.97\n"
     ]
    }
   ],
   "source": [
    "print(f\"Size in MB: {response['ContentLength'] / (1024*1024):.2f}\")\n"
   ]
  },
  {
   "cell_type": "code",
   "execution_count": null,
   "metadata": {
    "execution": {
     "iopub.execute_input": "2025-07-30T16:00:36.332466Z",
     "iopub.status.busy": "2025-07-30T16:00:36.332250Z",
     "iopub.status.idle": "2025-07-30T16:00:36.615464Z"
    },
    "vscode": {
     "languageId": "python_glue_session"
    }
   },
   "outputs": [
    {
     "name": "stdout",
     "output_type": "stream",
     "text": [
      "                   ts  number   pick_lat  ...  month  year  dayofweek\n",
      "0 2020-03-26 07:07:17   14626  12.313621  ...      3  2020          3\n",
      "1 2020-03-26 07:32:27   85490  12.943947  ...      3  2020          3\n",
      "2 2020-03-26 07:36:44    5408  12.899603  ...      3  2020          3\n",
      "3 2020-03-26 07:38:00   58940  12.918229  ...      3  2020          3\n",
      "4 2020-03-26 07:39:29    5408  12.899490  ...      3  2020          3\n",
      "\n",
      "[5 rows x 12 columns]\n"
     ]
    }
   ],
   "source": [
    "df.head(5)"
   ]
  }
 ],
 "metadata": {
  "kernelspec": {
   "display_name": "Glue PySpark",
   "language": "python",
   "name": "glue_pyspark"
  },
  "language_info": {
   "codemirror_mode": {
    "name": "python",
    "version": 3
   },
   "file_extension": ".py",
   "mimetype": "text/x-python",
   "name": "Python_Glue_Session",
   "pygments_lexer": "python3"
  }
 },
 "nbformat": 4,
 "nbformat_minor": 4
}
