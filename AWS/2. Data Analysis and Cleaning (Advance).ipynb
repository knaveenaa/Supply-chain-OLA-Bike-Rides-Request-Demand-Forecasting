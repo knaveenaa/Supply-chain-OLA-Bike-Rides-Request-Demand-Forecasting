{
 "cells": [
  {
   "cell_type": "code",
   "execution_count": 1,
   "metadata": {
    "execution": {
     "iopub.execute_input": "2025-07-30T16:36:01.604072Z",
     "iopub.status.busy": "2025-07-30T16:36:01.600229Z",
     "iopub.status.idle": "2025-07-30T16:37:12.353901Z",
     "shell.execute_reply": "2025-07-30T16:37:12.352754Z",
     "shell.execute_reply.started": "2025-07-30T16:36:01.603840Z"
    },
    "vscode": {
     "languageId": "python_glue_session"
    }
   },
   "outputs": [
    {
     "name": "stdout",
     "output_type": "stream",
     "text": [
      "Stopping session: c68c1ef4-b277-4de9-b200-93f65f2d3f5f\n",
      "Stopped session.\n"
     ]
    },
    {
     "name": "stderr",
     "output_type": "stream",
     "text": [
      "UsageError: Line magic function `%start_session` not found.\n"
     ]
    },
    {
     "name": "stdout",
     "output_type": "stream",
     "text": [
      "Trying to create a Glue session for the kernel.\n",
      "Session Type: etl\n",
      "Worker Type: G.1X\n",
      "Number of Workers: 5\n",
      "Idle Timeout: 2880\n",
      "Session ID: 3e13ad92-2a48-40b7-9f05-93c2db1eede4\n",
      "Applying the following default arguments:\n",
      "--glue_kernel_version 1.0.9\n",
      "--enable-glue-datacatalog true\n",
      "--additional-python-modules geopy==2.4.1\n",
      "Waiting for session 3e13ad92-2a48-40b7-9f05-93c2db1eede4 to get into ready status...\n",
      "Session 3e13ad92-2a48-40b7-9f05-93c2db1eede4 has been created.\n",
      "IndentationError: unexpected indent (<stdin>, line 1)\n"
     ]
    }
   ],
   "source": [
    "# First, cleanly stop your current session\n",
    "%stop_session\n",
    "\n",
    "# Then start a new session with all configurations at once\n",
    "%start_session \\\n",
    "    --glue_version 3.0 \\\n",
    "    --idle_timeout 2880 \\\n",
    "    --worker_type G.1X \\\n",
    "    --number_of_workers 5 \\\n",
    "    --additional_python_modules \"geopy==2.4.1\" \\\n",
    "    --conf \"{\\\"spark.pyspark.virtualenv.enabled\\\":\\\"true\\\"}\""
   ]
  },
  {
   "cell_type": "code",
   "execution_count": 30,
   "metadata": {
    "execution": {
     "iopub.execute_input": "2025-07-30T16:37:51.798404Z",
     "iopub.status.busy": "2025-07-30T16:37:51.798043Z",
     "iopub.status.idle": "2025-07-30T16:37:55.273661Z",
     "shell.execute_reply": "2025-07-30T16:37:55.272769Z",
     "shell.execute_reply.started": "2025-07-30T16:37:51.798379Z"
    },
    "vscode": {
     "languageId": "python_glue_session"
    }
   },
   "outputs": [
    {
     "name": "stdout",
     "output_type": "stream",
     "text": [
      "Requirement already satisfied: gpxpy in /opt/conda/lib/python3.12/site-packages (1.6.2)\n",
      "Requirement already satisfied: geopy in /opt/conda/lib/python3.12/site-packages (2.4.1)\n",
      "Requirement already satisfied: geographiclib<3,>=1.52 in /opt/conda/lib/python3.12/site-packages (from geopy) (2.0)\n",
      "Note: you may need to restart the kernel to use updated packages.\n"
     ]
    }
   ],
   "source": [
    "!pip install gpxpy \n",
    "%pip install geopy"
   ]
  },
  {
   "cell_type": "code",
   "execution_count": 3,
   "metadata": {
    "execution": {
     "iopub.execute_input": "2025-07-30T16:38:24.347175Z",
     "iopub.status.busy": "2025-07-30T16:38:24.346764Z",
     "iopub.status.idle": "2025-07-30T16:38:24.771539Z",
     "shell.execute_reply": "2025-07-30T16:38:24.770644Z",
     "shell.execute_reply.started": "2025-07-30T16:38:24.347141Z"
    },
    "vscode": {
     "languageId": "python_glue_session"
    }
   },
   "outputs": [
    {
     "name": "stdout",
     "output_type": "stream",
     "text": [
      "/usr/bin/python3\n",
      "['/tmp', '/tmp/spark-f03ee63e-31b2-48af-ade2-53b6dcd76dd1/userFiles-25bbc46f-9001-4762-a8cc-1e143ad1b8cd', '/opt/amazon/spark/python/lib/pyspark.zip', '/opt/amazon/spark/python/lib/py4j-0.10.9-src.zip', '/opt/amazon/lib/python3.6/site-packages', '/usr/lib64/python37.zip', '/usr/lib64/python3.7', '/usr/lib64/python3.7/lib-dynload', '/home/spark/.local/lib/python3.7/site-packages', '/usr/lib64/python3.7/site-packages', '/usr/lib/python3.7/site-packages']\n"
     ]
    }
   ],
   "source": [
    "import sys\n",
    "print(sys.executable)\n",
    "\n",
    "print(sys.path)\n"
   ]
  },
  {
   "cell_type": "code",
   "execution_count": 4,
   "metadata": {
    "execution": {
     "iopub.execute_input": "2025-07-30T16:38:37.870335Z",
     "iopub.status.busy": "2025-07-30T16:38:37.870051Z",
     "iopub.status.idle": "2025-07-30T16:38:45.209617Z",
     "shell.execute_reply": "2025-07-30T16:38:45.208778Z",
     "shell.execute_reply.started": "2025-07-30T16:38:37.870312Z"
    },
    "vscode": {
     "languageId": "python_glue_session"
    }
   },
   "outputs": [
    {
     "name": "stdout",
     "output_type": "stream",
     "text": [
      "\n"
     ]
    }
   ],
   "source": [
    "# CORRECTED IMPORTS\n",
    "import pandas as pd\n",
    "import numpy as np\n",
    "from geopy.distance import geodesic\n",
    "from geopy.geocoders import Nominatim  # Fixed spelling\n",
    "import time  # Fixed import name\n",
    "geolocator = Nominatim(user_agent=\"OLABikes\")"
   ]
  },
  {
   "cell_type": "code",
   "execution_count": 5,
   "metadata": {
    "execution": {
     "iopub.execute_input": "2025-07-30T16:38:47.170423Z",
     "iopub.status.busy": "2025-07-30T16:38:47.170070Z",
     "iopub.status.idle": "2025-07-30T16:39:04.354959Z",
     "shell.execute_reply": "2025-07-30T16:39:04.354115Z",
     "shell.execute_reply.started": "2025-07-30T16:38:47.170398Z"
    },
    "vscode": {
     "languageId": "python_glue_session"
    }
   },
   "outputs": [
    {
     "name": "stdout",
     "output_type": "stream",
     "text": [
      "                    ts  number   pick_lat  ...  month  year  dayofweek\n",
      "0  2020-03-26 07:07:17   14626  12.313621  ...      3  2020          3\n",
      "1  2020-03-26 07:32:27   85490  12.943947  ...      3  2020          3\n",
      "2  2020-03-26 07:36:44    5408  12.899603  ...      3  2020          3\n",
      "3  2020-03-26 07:38:00   58940  12.918229  ...      3  2020          3\n",
      "4  2020-03-26 07:39:29    5408  12.899490  ...      3  2020          3\n",
      "\n",
      "[5 rows x 12 columns]\n"
     ]
    }
   ],
   "source": [
    "import boto3\n",
    "import pandas as pd\n",
    "import io\n",
    "\n",
    "# Initialize boto3 client if not already done\n",
    "s3 = boto3.client('s3')\n",
    "\n",
    "bucket_name = 'demand-prediction-ola-rides'        # Replace with your bucket\n",
    "file_key = 'processed/preprocessed_11.csv.gz'  # Your gzip file key\n",
    "\n",
    "# Get the object from S3\n",
    "response = s3.get_object(Bucket=bucket_name, Key=file_key)\n",
    "\n",
    "# Read the compressed data from the response body\n",
    "compressed_body = response['Body'].read()\n",
    "\n",
    "# Convert bytes data to a BytesIO buffer\n",
    "buffer = io.BytesIO(compressed_body)\n",
    "\n",
    "# Read CSV with gzip compression\n",
    "df = pd.read_csv(buffer, compression='gzip')\n",
    "\n",
    "# Preview\n",
    "print(df.head())\n"
   ]
  },
  {
   "cell_type": "markdown",
   "metadata": {},
   "source": [
    "#### Reading Data from previous checkpoint"
   ]
  },
  {
   "cell_type": "markdown",
   "metadata": {
    "editable": true,
    "slideshow": {
     "slide_type": ""
    },
    "tags": []
   },
   "source": [
    "## Data Cleaning with Business Understanding\n",
    "\n",
    "### There can be cases when a user requests a ride, and their booking request is logged in our database but this user re-books his/her ride due to longer wait hours or driver refused booking or user by mistake added wrong pickup or drop locations. \n",
    "\n",
    "<hr>\n",
    "\n",
    "### `Handle Case1 Rebooking Again to Same Location`: Keep only one request of same user to same pickup latitude longitude in 1hour time frame of first ride request.\n",
    "\n",
    "<hr>\n",
    "\n",
    "### `Handle Case2 Location entry mistake`: Keep only last request of user within 8mintues of first booking request.\n",
    "#### A person booking a ride would generally book a ride that would take 8mins of bike ride time. \n",
    "#### Also, Calculate distance b/w pickup and drop. Based on distance and request time different remove bad data entries.\n",
    "\n",
    "#### `Handle Case2.1`: Pick Up and Drop Lat-Long Distance less than 50meters = 0.05 kms; No user would like to ride for just 50meters trip. \n",
    "\n",
    "<hr>\n",
    "\n",
    "### `Handle Case3`: Booking Location Outside operation zone of OLABikes\n",
    "#### Check lat-long bounding box coordinates"
   ]
  },
  {
   "cell_type": "code",
   "execution_count": 6,
   "metadata": {
    "execution": {
     "iopub.execute_input": "2025-07-30T16:39:08.097328Z",
     "iopub.status.busy": "2025-07-30T16:39:08.096946Z",
     "iopub.status.idle": "2025-07-30T16:39:19.528557Z",
     "shell.execute_reply": "2025-07-30T16:39:19.527878Z",
     "shell.execute_reply.started": "2025-07-30T16:39:08.097301Z"
    },
    "vscode": {
     "languageId": "python_glue_session"
    }
   },
   "outputs": [
    {
     "name": "stdout",
     "output_type": "stream",
     "text": [
      "\n"
     ]
    }
   ],
   "source": [
    "df['ts'] = pd.to_datetime(df['ts'])\n",
    "df.sort_values(by = ['number','ts'], inplace = True)\n",
    "df.reset_index(inplace = True)"
   ]
  },
  {
   "cell_type": "code",
   "execution_count": 7,
   "metadata": {
    "execution": {
     "iopub.execute_input": "2025-07-30T16:39:37.265548Z",
     "iopub.status.busy": "2025-07-30T16:39:37.265127Z",
     "iopub.status.idle": "2025-07-30T16:39:38.593143Z",
     "shell.execute_reply": "2025-07-30T16:39:38.591909Z",
     "shell.execute_reply.started": "2025-07-30T16:39:37.265516Z"
    },
    "vscode": {
     "languageId": "python_glue_session"
    }
   },
   "outputs": [
    {
     "name": "stdout",
     "output_type": "stream",
     "text": [
      "\n"
     ]
    }
   ],
   "source": [
    "# you need convert first to numpy array by values and cast to int64 - output is in ns, so need divide by 10 ** 9\n",
    "\n",
    "df['booking_timestamp'] = df.ts.values.astype(np.int64)// 10 ** 9"
   ]
  },
  {
   "cell_type": "code",
   "execution_count": 8,
   "metadata": {
    "execution": {
     "iopub.execute_input": "2025-07-30T16:39:39.303519Z",
     "iopub.status.busy": "2025-07-30T16:39:39.302821Z",
     "iopub.status.idle": "2025-07-30T16:39:39.556913Z",
     "shell.execute_reply": "2025-07-30T16:39:39.555019Z",
     "shell.execute_reply.started": "2025-07-30T16:39:39.303491Z"
    },
    "vscode": {
     "languageId": "python_glue_session"
    }
   },
   "outputs": [
    {
     "name": "stdout",
     "output_type": "stream",
     "text": [
      "      index                  ts  number  ...  year  dayofweek  booking_timestamp\n",
      "0   2374378 2020-10-10 07:34:16      -1  ...  2020          5         1602315256\n",
      "1   2405894 2020-10-11 08:23:42      -1  ...  2020          6         1602404622\n",
      "2   2405895 2020-10-11 08:23:50      -1  ...  2020          6         1602404630\n",
      "3   2405896 2020-10-11 08:23:51      -1  ...  2020          6         1602404631\n",
      "4   2405897 2020-10-11 08:23:54      -1  ...  2020          6         1602404634\n",
      "5   2405898 2020-10-11 08:23:56      -1  ...  2020          6         1602404636\n",
      "6   2406076 2020-10-11 11:57:17      -1  ...  2020          6         1602417437\n",
      "7   2406077 2020-10-11 11:57:31      -1  ...  2020          6         1602417451\n",
      "8   2500477 2020-10-16 17:51:07      -1  ...  2020          4         1602870667\n",
      "9   2500478 2020-10-16 17:51:25      -1  ...  2020          4         1602870685\n",
      "10  2694503 2020-10-30 09:00:44      -1  ...  2020          4         1604048444\n",
      "11  3358326 2020-11-27 20:16:20      -1  ...  2020          4         1606508180\n",
      "12  3358336 2020-11-27 20:35:09      -1  ...  2020          4         1606509309\n",
      "13  3358337 2020-11-27 20:35:48      -1  ...  2020          4         1606509348\n",
      "14  3358339 2020-11-27 20:35:51      -1  ...  2020          4         1606509351\n",
      "15  3565362 2020-12-05 22:09:55      -1  ...  2020          5         1607206195\n",
      "16  3580957 2020-12-06 10:25:54      -1  ...  2020          6         1607250354\n",
      "17  3580973 2020-12-06 10:34:20      -1  ...  2020          6         1607250860\n",
      "18  3592959 2020-12-06 22:18:23      -1  ...  2020          6         1607293103\n",
      "19  3592961 2020-12-06 22:19:39      -1  ...  2020          6         1607293179\n",
      "20  3592963 2020-12-06 22:23:17      -1  ...  2020          6         1607293397\n",
      "21  3592964 2020-12-06 22:23:41      -1  ...  2020          6         1607293421\n",
      "22  3641277 2020-12-08 09:01:57      -1  ...  2020          1         1607418117\n",
      "23  3795100 2020-12-17 17:40:20      -1  ...  2020          3         1608226820\n",
      "24  3795170 2020-12-17 18:45:11      -1  ...  2020          3         1608230711\n",
      "25  3795175 2020-12-17 18:52:49      -1  ...  2020          3         1608231169\n",
      "26  3795178 2020-12-17 18:56:06      -1  ...  2020          3         1608231366\n",
      "27  3807424 2020-12-19 21:26:16      -1  ...  2020          5         1608413176\n",
      "28  3849540 2020-12-21 16:59:55      -1  ...  2020          0         1608569995\n",
      "29  3951066 2020-12-26 16:28:54      -1  ...  2020          5         1609000134\n",
      "30  3951069 2020-12-26 16:30:07      -1  ...  2020          5         1609000207\n",
      "31  3951070 2020-12-26 16:30:12      -1  ...  2020          5         1609000212\n",
      "32  4188621 2021-01-02 07:37:39      -1  ...  2021          5         1609573059\n",
      "33  4196749 2021-01-02 20:25:24      -1  ...  2021          5         1609619124\n",
      "34  4196903 2021-01-02 23:33:50      -1  ...  2021          5         1609630430\n",
      "35  4212326 2021-01-03 17:13:31      -1  ...  2021          6         1609694011\n",
      "36  4253585 2021-01-04 16:36:42      -1  ...  2021          0         1609778202\n",
      "37  4253586 2021-01-04 16:36:59      -1  ...  2021          0         1609778219\n",
      "38  4253587 2021-01-04 16:37:06      -1  ...  2021          0         1609778226\n",
      "39  4229254 2021-01-04 17:31:23      -1  ...  2021          0         1609781483\n",
      "40  4229285 2021-01-04 17:51:09      -1  ...  2021          0         1609782669\n",
      "41  4229551 2021-01-04 20:02:19      -1  ...  2021          0         1609790539\n",
      "42  4229554 2021-01-04 20:04:06      -1  ...  2021          0         1609790646\n",
      "43  4229556 2021-01-04 20:04:12      -1  ...  2021          0         1609790652\n",
      "44  4229557 2021-01-04 20:04:17      -1  ...  2021          0         1609790657\n",
      "45  4229559 2021-01-04 20:04:56      -1  ...  2021          0         1609790696\n",
      "46  4289433 2021-01-05 08:48:17      -1  ...  2021          1         1609836497\n",
      "47  4349159 2021-01-07 15:44:25      -1  ...  2021          3         1610034265\n",
      "48  4358506 2021-01-08 13:43:05      -1  ...  2021          4         1610113385\n",
      "49  4380739 2021-01-09 10:55:48      -1  ...  2021          5         1610189748\n",
      "\n",
      "[50 rows x 14 columns]\n"
     ]
    }
   ],
   "source": [
    "df.head(50)"
   ]
  },
  {
   "cell_type": "code",
   "execution_count": 9,
   "metadata": {
    "execution": {
     "iopub.execute_input": "2025-07-30T16:39:40.414724Z",
     "iopub.status.busy": "2025-07-30T16:39:40.414001Z",
     "iopub.status.idle": "2025-07-30T16:39:41.768919Z",
     "shell.execute_reply": "2025-07-30T16:39:41.767713Z",
     "shell.execute_reply.started": "2025-07-30T16:39:40.414694Z"
    },
    "vscode": {
     "languageId": "python_glue_session"
    }
   },
   "outputs": [
    {
     "name": "stdout",
     "output_type": "stream",
     "text": [
      "\n"
     ]
    }
   ],
   "source": [
    "df['shift_booking_ts'] = df.groupby('number')['booking_timestamp'].shift(1)\n",
    "df['shift_booking_ts'].fillna(0, inplace = True)"
   ]
  },
  {
   "cell_type": "code",
   "execution_count": 10,
   "metadata": {
    "execution": {
     "iopub.execute_input": "2025-07-30T16:39:41.837348Z",
     "iopub.status.busy": "2025-07-30T16:39:41.836897Z",
     "iopub.status.idle": "2025-07-30T16:39:42.185609Z",
     "shell.execute_reply": "2025-07-30T16:39:42.184951Z",
     "shell.execute_reply.started": "2025-07-30T16:39:41.837325Z"
    },
    "vscode": {
     "languageId": "python_glue_session"
    }
   },
   "outputs": [
    {
     "name": "stdout",
     "output_type": "stream",
     "text": [
      "\n"
     ]
    }
   ],
   "source": [
    "df['shift_booking_ts'] = df['shift_booking_ts'].astype('int64')"
   ]
  },
  {
   "cell_type": "code",
   "execution_count": 11,
   "metadata": {
    "execution": {
     "iopub.execute_input": "2025-07-30T16:39:42.864834Z",
     "iopub.status.busy": "2025-07-30T16:39:42.864462Z",
     "iopub.status.idle": "2025-07-30T16:39:43.287955Z",
     "shell.execute_reply": "2025-07-30T16:39:43.286979Z",
     "shell.execute_reply.started": "2025-07-30T16:39:42.864806Z"
    },
    "vscode": {
     "languageId": "python_glue_session"
    }
   },
   "outputs": [
    {
     "name": "stdout",
     "output_type": "stream",
     "text": [
      "\n"
     ]
    }
   ],
   "source": [
    "df['booking_time_diff_hr'] = round((df['booking_timestamp'] - df['shift_booking_ts'])//3600)\n",
    "df['booking_time_diff_min'] = round((df['booking_timestamp'] - df['shift_booking_ts'])//60)"
   ]
  },
  {
   "cell_type": "code",
   "execution_count": 34,
   "metadata": {
    "execution": {
     "iopub.execute_input": "2025-07-30T16:40:02.671840Z",
     "iopub.status.busy": "2025-07-30T16:40:02.671452Z",
     "iopub.status.idle": "2025-07-30T16:40:02.704117Z",
     "shell.execute_reply": "2025-07-30T16:40:02.700785Z",
     "shell.execute_reply.started": "2025-07-30T16:40:02.671806Z"
    },
    "vscode": {
     "languageId": "python_glue_session"
    }
   },
   "outputs": [],
   "source": [
    "##Booking time different in mins\n",
    "#df['booking_time_diff_min'].value_counts().to_dict()"
   ]
  },
  {
   "cell_type": "code",
   "execution_count": 35,
   "metadata": {
    "execution": {
     "iopub.execute_input": "2025-07-30T16:40:03.537359Z",
     "iopub.status.busy": "2025-07-30T16:40:03.533272Z",
     "iopub.status.idle": "2025-07-30T16:40:03.541244Z",
     "shell.execute_reply": "2025-07-30T16:40:03.540349Z",
     "shell.execute_reply.started": "2025-07-30T16:40:03.537321Z"
    },
    "vscode": {
     "languageId": "python_glue_session"
    }
   },
   "outputs": [],
   "source": [
    "##Booking time different in hours\n",
    "#df['booking_time_diff_hr'].value_counts().to_dict()"
   ]
  },
  {
   "cell_type": "markdown",
   "metadata": {},
   "source": [
    "### We observe that there are 8315382 - 4335828 = 39,79,554 booking that happen in less than 1 hour of request by a user"
   ]
  },
  {
   "cell_type": "code",
   "execution_count": 13,
   "metadata": {
    "execution": {
     "iopub.execute_input": "2025-07-30T16:40:06.021074Z",
     "iopub.status.busy": "2025-07-30T16:40:06.020715Z",
     "iopub.status.idle": "2025-07-30T16:40:06.284197Z",
     "shell.execute_reply": "2025-07-30T16:40:06.283141Z",
     "shell.execute_reply.started": "2025-07-30T16:40:06.021050Z"
    },
    "vscode": {
     "languageId": "python_glue_session"
    }
   },
   "outputs": [
    {
     "name": "stdout",
     "output_type": "stream",
     "text": [
      "8315382\n"
     ]
    }
   ],
   "source": [
    "len(df)"
   ]
  },
  {
   "cell_type": "code",
   "execution_count": 14,
   "metadata": {
    "execution": {
     "iopub.execute_input": "2025-07-30T16:40:07.191863Z",
     "iopub.status.busy": "2025-07-30T16:40:07.191472Z",
     "iopub.status.idle": "2025-07-30T16:40:09.904805Z",
     "shell.execute_reply": "2025-07-30T16:40:09.904128Z",
     "shell.execute_reply.started": "2025-07-30T16:40:07.191835Z"
    },
    "vscode": {
     "languageId": "python_glue_session"
    }
   },
   "outputs": [
    {
     "name": "stdout",
     "output_type": "stream",
     "text": [
      "\n"
     ]
    }
   ],
   "source": [
    "### Handling Case 1: Re-booking Again to Same Location within 1hour by same user\n",
    "\n",
    "df = df[~((df.duplicated(subset=['number','pick_lat','pick_lng'],keep=False)) & (df.booking_time_diff_hr<=1))]"
   ]
  },
  {
   "cell_type": "code",
   "execution_count": 15,
   "metadata": {
    "execution": {
     "iopub.execute_input": "2025-07-30T16:40:10.923912Z",
     "iopub.status.busy": "2025-07-30T16:40:10.923629Z",
     "iopub.status.idle": "2025-07-30T16:40:11.252953Z",
     "shell.execute_reply": "2025-07-30T16:40:11.252108Z",
     "shell.execute_reply.started": "2025-07-30T16:40:10.923891Z"
    },
    "vscode": {
     "languageId": "python_glue_session"
    }
   },
   "outputs": [
    {
     "name": "stdout",
     "output_type": "stream",
     "text": [
      "4335828\n"
     ]
    }
   ],
   "source": [
    "## Before removing Row Count\n",
    "len(df)"
   ]
  },
  {
   "cell_type": "markdown",
   "metadata": {},
   "source": [
    "###  Removed 3979554 rows in `Case1` we now have 4335828"
   ]
  },
  {
   "cell_type": "code",
   "execution_count": null,
   "metadata": {
    "execution": {
     "iopub.execute_input": "2025-07-30T16:46:14.683597Z",
     "iopub.status.busy": "2025-07-30T16:46:14.683133Z",
     "iopub.status.idle": "2025-07-30T16:48:17.039901Z"
    },
    "vscode": {
     "languageId": "python_glue_session"
    }
   },
   "outputs": [
    {
     "name": "stdout",
     "output_type": "stream",
     "text": [
      "GZIP-compressed CSV uploaded to S3 successfully!\n"
     ]
    }
   ],
   "source": [
    "import boto3\n",
    "import io\n",
    "\n",
    "# Define your S3 bucket and object key\n",
    "bucket_name = 'demand-prediction-ola-rides'\n",
    "s3_key = 'processed/preprocessed_2.csv.gz'\n",
    "\n",
    "# Convert DataFrame to GZIP-compressed CSV in-memory\n",
    "buffer = io.BytesIO()\n",
    "df.to_csv(buffer, index=False, compression='gzip')\n",
    "buffer.seek(0)  # Important: reset buffer position\n",
    "\n",
    "# Upload to S3\n",
    "s3 = boto3.client('s3')\n",
    "s3.put_object(Bucket=bucket_name, Key=s3_key, Body=buffer.getvalue())\n",
    "\n",
    "print(\"GZIP-compressed CSV uploaded to S3 successfully!\")"
   ]
  },
  {
   "cell_type": "markdown",
   "metadata": {},
   "source": [
    "### Handling Case2: One user Books rides are different lat-long within 8mins time (ride time + driver arrival time)\n",
    "#### Fraud User\n",
    "#### Human error booking"
   ]
  },
  {
   "cell_type": "code",
   "execution_count": 23,
   "metadata": {
    "execution": {
     "iopub.execute_input": "2025-07-30T16:48:41.838275Z",
     "iopub.status.busy": "2025-07-30T16:48:41.837994Z",
     "iopub.status.idle": "2025-07-30T16:48:53.231717Z",
     "shell.execute_reply": "2025-07-30T16:48:53.230710Z",
     "shell.execute_reply.started": "2025-07-30T16:48:41.838252Z"
    },
    "vscode": {
     "languageId": "python_glue_session"
    }
   },
   "outputs": [
    {
     "name": "stdout",
     "output_type": "stream",
     "text": [
      "     index                   ts  ...  booking_time_diff_hr  booking_time_diff_min\n",
      "0  2374378  2020-10-10 07:34:16  ...                445087               26705254\n",
      "1  2405894  2020-10-11 08:23:42  ...                    24                   1489\n",
      "2  2406076  2020-10-11 11:57:17  ...                     3                    213\n",
      "3  2500477  2020-10-16 17:51:07  ...                   125                   7553\n",
      "4  2694503  2020-10-30 09:00:44  ...                   327                  19629\n",
      "\n",
      "[5 rows x 17 columns]\n"
     ]
    }
   ],
   "source": [
    "import boto3\n",
    "import pandas as pd\n",
    "import io\n",
    "\n",
    "# Initialize boto3 client if not already done\n",
    "s3 = boto3.client('s3')\n",
    "\n",
    "bucket_name = 'demand-prediction-ola-rides'        # Replace with your bucket\n",
    "file_key = 'processed/preprocessed_2.csv.gz'  # Your gzip file key\n",
    "\n",
    "# Get the object from S3\n",
    "response = s3.get_object(Bucket=bucket_name, Key=file_key)\n",
    "\n",
    "# Read the compressed data from the response body\n",
    "compressed_body = response['Body'].read()\n",
    "\n",
    "# Convert bytes data to a BytesIO buffer\n",
    "buffer = io.BytesIO(compressed_body)\n",
    "\n",
    "# Read CSV with gzip compression\n",
    "df = pd.read_csv(buffer, compression='gzip')\n",
    "\n",
    "# Preview\n",
    "print(df.head())\n"
   ]
  },
  {
   "cell_type": "code",
   "execution_count": 24,
   "metadata": {
    "execution": {
     "iopub.execute_input": "2025-07-30T16:48:58.316968Z",
     "iopub.status.busy": "2025-07-30T16:48:58.316318Z",
     "iopub.status.idle": "2025-07-30T16:48:59.770017Z",
     "shell.execute_reply": "2025-07-30T16:48:59.769255Z",
     "shell.execute_reply.started": "2025-07-30T16:48:58.316940Z"
    },
    "vscode": {
     "languageId": "python_glue_session"
    }
   },
   "outputs": [
    {
     "name": "stdout",
     "output_type": "stream",
     "text": [
      "Number of rides booked by same customer within 8mins time: 0\n"
     ]
    }
   ],
   "source": [
    "print(\"Number of rides booked by same customer within 8mins time: {}\".format(len(df[(df.booking_time_diff_min<8)])))\n",
    "df = df[(df.booking_time_diff_min>=8)]"
   ]
  },
  {
   "cell_type": "markdown",
   "metadata": {},
   "source": [
    "### Assuming earth as ellipsoids, calculating geodesic distance b/w pickup and drop latitude and longitude\n",
    "\n",
    "The geodesic distance is the shortest distance on the surface of an ellipsoidal model of the earth. The default algorithm uses the method is given by [Karney (2013)](https://link.springer.com/article/10.1007/s00190-012-0578-z) (geodesic); this is accurate to round-off and always converges.\n"
   ]
  },
  {
   "cell_type": "code",
   "execution_count": 37,
   "metadata": {
    "execution": {
     "iopub.execute_input": "2025-07-30T18:43:45.764257Z",
     "iopub.status.busy": "2025-07-30T18:43:45.763928Z",
     "iopub.status.idle": "2025-07-30T18:43:47.258505Z",
     "shell.execute_reply": "2025-07-30T18:43:47.257802Z",
     "shell.execute_reply.started": "2025-07-30T18:43:45.764233Z"
    },
    "vscode": {
     "languageId": "python_glue_session"
    }
   },
   "outputs": [
    {
     "name": "stdout",
     "output_type": "stream",
     "text": [
      "\n"
     ]
    }
   ],
   "source": [
    "import numpy as np\n",
    "\n",
    "# Define fast vectorized Haversine function\n",
    "def haversine_np(lat1, lon1, lat2, lon2):\n",
    "    R = 6371  # Earth radius in km\n",
    "    lat1 = np.radians(lat1)\n",
    "    lon1 = np.radians(lon1)\n",
    "    lat2 = np.radians(lat2)\n",
    "    lon2 = np.radians(lon2)\n",
    "\n",
    "    dlat = lat2 - lat1\n",
    "    dlon = lon2 - lon1\n",
    "\n",
    "    a = np.sin(dlat / 2)**2 + np.cos(lat1) * np.cos(lat2) * np.sin(dlon / 2)**2\n",
    "    c = 2 * np.arcsin(np.sqrt(a))\n",
    "\n",
    "    return np.round(R * c, 2)\n",
    "\n",
    "# Apply it to your DataFrame\n",
    "df['geodesic_distance'] = haversine_np(\n",
    "    df['pick_lat'].values,\n",
    "    df['pick_lng'].values,\n",
    "    df['drop_lat'].values,\n",
    "    df['drop_lng'].values\n",
    ")\n"
   ]
  },
  {
   "cell_type": "code",
   "execution_count": 39,
   "metadata": {
    "execution": {
     "iopub.execute_input": "2025-07-30T18:43:54.913102Z",
     "iopub.status.busy": "2025-07-30T18:43:54.912572Z",
     "iopub.status.idle": "2025-07-30T18:43:54.916259Z",
     "shell.execute_reply": "2025-07-30T18:43:54.915432Z",
     "shell.execute_reply.started": "2025-07-30T18:43:54.913076Z"
    },
    "vscode": {
     "languageId": "python_glue_session"
    }
   },
   "outputs": [],
   "source": [
    "# %time \n",
    "# from geopy.distance import geodesic\n",
    "\n",
    "# def geodestic_distance(pick_lat, pick_lng, drop_lat, drop_lng):\n",
    "#     # 1mile = 1.60934 Kms\n",
    "#     return round(geodesic((pick_lat, pick_lng), (drop_lat, drop_lng)).miles*1.60934,2)\n",
    "\n",
    "# df['geodesic_distance'] = np.vectorize(geodestic_distance)(df['pick_lat'],df['pick_lng'],df['drop_lat'],df['drop_lng'])"
   ]
  },
  {
   "cell_type": "markdown",
   "metadata": {},
   "source": [
    "##### Number of rides booked but same customer within 8mins time: 875816"
   ]
  },
  {
   "cell_type": "code",
   "execution_count": 38,
   "metadata": {
    "execution": {
     "iopub.execute_input": "2025-07-30T18:43:57.951989Z",
     "iopub.status.busy": "2025-07-30T18:43:57.951022Z",
     "iopub.status.idle": "2025-07-30T18:43:58.422736Z",
     "shell.execute_reply": "2025-07-30T18:43:58.422023Z",
     "shell.execute_reply.started": "2025-07-30T18:43:57.951960Z"
    },
    "vscode": {
     "languageId": "python_glue_session"
    }
   },
   "outputs": [
    {
     "name": "stdout",
     "output_type": "stream",
     "text": [
      "0.50    1197\n",
      "0.48    1083\n",
      "0.47    1082\n",
      "0.49    1061\n",
      "0.46    1014\n",
      "0.45     882\n",
      "0.44     882\n",
      "0.43     841\n",
      "0.39     771\n",
      "0.41     761\n",
      "0.40     754\n",
      "0.06     750\n",
      "0.42     741\n",
      "0.37     666\n",
      "0.38     662\n",
      "0.07     644\n",
      "0.36     640\n",
      "0.08     601\n",
      "0.33     590\n",
      "0.34     579\n",
      "0.35     576\n",
      "0.32     552\n",
      "0.09     546\n",
      "0.31     516\n",
      "0.10     503\n",
      "0.11     489\n",
      "0.30     488\n",
      "0.29     483\n",
      "0.12     455\n",
      "0.28     442\n",
      "0.27     438\n",
      "0.26     433\n",
      "0.05     431\n",
      "0.14     413\n",
      "0.17     404\n",
      "0.20     400\n",
      "0.21     398\n",
      "0.22     396\n",
      "0.24     385\n",
      "0.13     382\n",
      "0.18     367\n",
      "0.23     362\n",
      "0.15     362\n",
      "0.19     355\n",
      "0.16     344\n",
      "0.25     344\n",
      "Name: geodesic_distance, dtype: int64\n"
     ]
    }
   ],
   "source": [
    "df[df['geodesic_distance']<=0.5]['geodesic_distance'].value_counts()"
   ]
  },
  {
   "cell_type": "markdown",
   "metadata": {},
   "source": [
    "### Handle Case 2.1: Removing ride request less than 0.05 miles = 50meters"
   ]
  },
  {
   "cell_type": "code",
   "execution_count": 39,
   "metadata": {
    "execution": {
     "iopub.execute_input": "2025-07-30T18:44:04.809344Z",
     "iopub.status.busy": "2025-07-30T18:44:04.808846Z",
     "iopub.status.idle": "2025-07-30T18:44:05.242916Z",
     "shell.execute_reply": "2025-07-30T18:44:05.242149Z",
     "shell.execute_reply.started": "2025-07-30T18:44:04.809320Z"
    },
    "vscode": {
     "languageId": "python_glue_session"
    }
   },
   "outputs": [
    {
     "name": "stdout",
     "output_type": "stream",
     "text": [
      "Number of Rides Requests less than 50meters: 431\n"
     ]
    }
   ],
   "source": [
    "print(\"Number of Rides Requests less than 50meters: {}\".format(len(df[df.geodesic_distance<=0.05])))"
   ]
  },
  {
   "cell_type": "code",
   "execution_count": 40,
   "metadata": {
    "execution": {
     "iopub.execute_input": "2025-07-30T18:44:06.271891Z",
     "iopub.status.busy": "2025-07-30T18:44:06.270976Z",
     "iopub.status.idle": "2025-07-30T18:44:07.645048Z",
     "shell.execute_reply": "2025-07-30T18:44:07.644191Z",
     "shell.execute_reply.started": "2025-07-30T18:44:06.271860Z"
    },
    "vscode": {
     "languageId": "python_glue_session"
    }
   },
   "outputs": [
    {
     "name": "stdout",
     "output_type": "stream",
     "text": [
      "           index                   ts  ...  booking_time_diff_min  geodesic_distance\n",
      "0        2374378  2020-10-10 07:34:16  ...               26705254              17.40\n",
      "1        2405894  2020-10-11 08:23:42  ...                   1489               4.08\n",
      "2        2406076  2020-10-11 11:57:17  ...                    213               4.05\n",
      "3        2500477  2020-10-16 17:51:07  ...                   7553               3.62\n",
      "4        2694503  2020-10-30 09:00:44  ...                  19629               3.10\n",
      "...          ...                  ...  ...                    ...                ...\n",
      "3723932  5768115  2021-02-12 19:37:11  ...                   1498               3.79\n",
      "3723933  6102760  2021-02-19 20:43:25  ...                  10146              11.88\n",
      "3723934  6137206  2021-02-20 17:34:45  ...                   1251               2.17\n",
      "3723935  6555089  2021-02-27 08:26:23  ...                   9531               4.56\n",
      "3723936  6888302  2021-03-04 19:13:13  ...                   7846               8.65\n",
      "\n",
      "[3709482 rows x 18 columns]\n"
     ]
    }
   ],
   "source": [
    "df = df[df.geodesic_distance>0.05]\n",
    "df"
   ]
  },
  {
   "cell_type": "code",
   "execution_count": 41,
   "metadata": {
    "execution": {
     "iopub.execute_input": "2025-07-30T18:44:18.427093Z",
     "iopub.status.busy": "2025-07-30T18:44:18.426418Z",
     "iopub.status.idle": "2025-07-30T18:44:18.718956Z",
     "shell.execute_reply": "2025-07-30T18:44:18.718169Z",
     "shell.execute_reply.started": "2025-07-30T18:44:18.427063Z"
    },
    "vscode": {
     "languageId": "python_glue_session"
    }
   },
   "outputs": [
    {
     "name": "stdout",
     "output_type": "stream",
     "text": [
      "3709482\n"
     ]
    }
   ],
   "source": [
    "len(df)"
   ]
  },
  {
   "cell_type": "code",
   "execution_count": 42,
   "metadata": {
    "execution": {
     "iopub.execute_input": "2025-07-30T18:44:19.925114Z",
     "iopub.status.busy": "2025-07-30T18:44:19.924852Z",
     "iopub.status.idle": "2025-07-30T18:44:20.342262Z",
     "shell.execute_reply": "2025-07-30T18:44:20.341480Z",
     "shell.execute_reply.started": "2025-07-30T18:44:19.925092Z"
    },
    "vscode": {
     "languageId": "python_glue_session"
    }
   },
   "outputs": [
    {
     "name": "stdout",
     "output_type": "stream",
     "text": [
      "FileNotFoundError: [Errno 2] No such file or directory: './../Data/preprocessed_3.csv'\n"
     ]
    }
   ],
   "source": [
    "df.to_csv('./../Data/preprocessed_3.csv',index = False, compression = 'gzip')"
   ]
  },
  {
   "cell_type": "markdown",
   "metadata": {},
   "source": [
    "### Handle Case3: Rides request in non-operational regions\n",
    "OLA Bikes OPERATION CITY (Bangalore)\n",
    "\n",
    "### Ride requests due to some bug or crash in app.\n",
    "<hr>\n",
    "\n",
    "#### India: 'boundingbox': ['6.2325274', '35.6745457', '68.1113787', '97.395561']\n",
    "#### Bangalore:'boundingbox': ['12.8340125', '13.1436649', '77.4601025', '77.7840515']\n",
    "#### Karnataka: 'boundingbox': ['11.5945587', '18.4767308', '74.0543908', '78.588083']\n",
    "Source: openstreetmap"
   ]
  },
  {
   "cell_type": "code",
   "execution_count": 43,
   "metadata": {
    "execution": {
     "iopub.execute_input": "2025-07-30T18:44:26.672018Z",
     "iopub.status.busy": "2025-07-30T18:44:26.671374Z",
     "iopub.status.idle": "2025-07-30T18:44:27.030628Z",
     "shell.execute_reply": "2025-07-30T18:44:27.029823Z",
     "shell.execute_reply.started": "2025-07-30T18:44:26.671988Z"
    },
    "vscode": {
     "languageId": "python_glue_session"
    }
   },
   "outputs": [
    {
     "name": "stdout",
     "output_type": "stream",
     "text": [
      "FileNotFoundError: [Errno 2] No such file or directory: './../Data/preprocessed_3.csv'\n"
     ]
    }
   ],
   "source": [
    "df = pd.read_csv('./../Data/preprocessed_3.csv', compression = 'gzip')\n",
    "location = geolocator.geocode(\"India\")\n",
    "location.raw"
   ]
  },
  {
   "cell_type": "code",
   "execution_count": 44,
   "metadata": {
    "execution": {
     "iopub.execute_input": "2025-07-30T18:44:30.335779Z",
     "iopub.status.busy": "2025-07-30T18:44:30.335499Z",
     "iopub.status.idle": "2025-07-30T18:44:30.707900Z",
     "shell.execute_reply": "2025-07-30T18:44:30.706881Z",
     "shell.execute_reply.started": "2025-07-30T18:44:30.335757Z"
    },
    "vscode": {
     "languageId": "python_glue_session"
    }
   },
   "outputs": [
    {
     "name": "stdout",
     "output_type": "stream",
     "text": [
      "           index                   ts  ...  booking_time_diff_min  geodesic_distance\n",
      "0        2374378  2020-10-10 07:34:16  ...               26705254              17.40\n",
      "1        2405894  2020-10-11 08:23:42  ...                   1489               4.08\n",
      "2        2406076  2020-10-11 11:57:17  ...                    213               4.05\n",
      "3        2500477  2020-10-16 17:51:07  ...                   7553               3.62\n",
      "4        2694503  2020-10-30 09:00:44  ...                  19629               3.10\n",
      "...          ...                  ...  ...                    ...                ...\n",
      "3723932  5768115  2021-02-12 19:37:11  ...                   1498               3.79\n",
      "3723933  6102760  2021-02-19 20:43:25  ...                  10146              11.88\n",
      "3723934  6137206  2021-02-20 17:34:45  ...                   1251               2.17\n",
      "3723935  6555089  2021-02-27 08:26:23  ...                   9531               4.56\n",
      "3723936  6888302  2021-03-04 19:13:13  ...                   7846               8.65\n",
      "\n",
      "[3709482 rows x 18 columns]\n"
     ]
    }
   ],
   "source": [
    "df"
   ]
  },
  {
   "cell_type": "code",
   "execution_count": 45,
   "metadata": {
    "execution": {
     "iopub.execute_input": "2025-07-30T18:44:31.653645Z",
     "iopub.status.busy": "2025-07-30T18:44:31.652825Z",
     "iopub.status.idle": "2025-07-30T18:44:32.043998Z",
     "shell.execute_reply": "2025-07-30T18:44:32.043143Z",
     "shell.execute_reply.started": "2025-07-30T18:44:31.653614Z"
    },
    "vscode": {
     "languageId": "python_glue_session"
    }
   },
   "outputs": [
    {
     "name": "stdout",
     "output_type": "stream",
     "text": [
      "           index                   ts  ...  booking_time_diff_min  geodesic_distance\n",
      "4279      742031  2020-06-22 07:19:06  ...                  31271            8665.98\n",
      "13163    2502259  2020-10-16 21:52:28  ...                      8           12168.03\n",
      "14602    4344697  2021-01-07 13:17:11  ...                   3039           12643.28\n",
      "20744    8297478  2021-03-26 20:16:01  ...                   1530            4041.87\n",
      "26980    1786595  2020-09-09 09:36:43  ...               26660736            8666.62\n",
      "...          ...                  ...  ...                    ...                ...\n",
      "3679044  1985134  2020-09-21 14:40:51  ...                   5724            8671.97\n",
      "3684907   834555  2020-07-02 08:40:16  ...                  31249           14216.92\n",
      "3686028  2331458  2020-10-06 18:12:35  ...                   2895            2477.85\n",
      "3695919  2747830  2020-11-02 18:57:02  ...                    561            8663.80\n",
      "3715826  5191270  2021-02-01 18:32:03  ...                     10            8664.23\n",
      "\n",
      "[642 rows x 18 columns]\n"
     ]
    }
   ],
   "source": [
    "## How many rides outside india?\n",
    "df[(df.pick_lat<=6.2325274) | (df.pick_lat>=35.6745457) | (df.pick_lng<=68.1113787) | (df.pick_lng>=97.395561) | (df.drop_lat<=6.2325274) | (df.drop_lat>=35.6745457) | (df.drop_lng<=68.1113787) | (df.drop_lng>=97.395561)]"
   ]
  },
  {
   "cell_type": "markdown",
   "metadata": {},
   "source": [
    "### OLA Bikes is only operational in India\n",
    "### Removing all rides for which pickup or drop is outside INDIA.\n",
    "#### Number of such cases: 642"
   ]
  },
  {
   "cell_type": "code",
   "execution_count": 46,
   "metadata": {
    "execution": {
     "iopub.execute_input": "2025-07-30T18:44:41.599531Z",
     "iopub.status.busy": "2025-07-30T18:44:41.599117Z",
     "iopub.status.idle": "2025-07-30T18:44:43.070265Z",
     "shell.execute_reply": "2025-07-30T18:44:43.069506Z",
     "shell.execute_reply.started": "2025-07-30T18:44:41.599506Z"
    },
    "vscode": {
     "languageId": "python_glue_session"
    }
   },
   "outputs": [
    {
     "name": "stdout",
     "output_type": "stream",
     "text": [
      "\n"
     ]
    }
   ],
   "source": [
    "df.reset_index(inplace = True, drop = True)\n",
    "outside_India = df[(df.pick_lat<=6.2325274) | (df.pick_lat>=35.6745457) | (df.pick_lng<=68.1113787) | (df.pick_lng>=97.395561) | (df.drop_lat<=6.2325274) | (df.drop_lat>=35.6745457) | (df.drop_lng<=68.1113787) | (df.drop_lng>=97.395561)]\n",
    "df = df[~df.index.isin(outside_India.index)].reset_index(drop = True)"
   ]
  },
  {
   "cell_type": "code",
   "execution_count": 47,
   "metadata": {
    "execution": {
     "iopub.execute_input": "2025-07-30T18:44:44.664603Z",
     "iopub.status.busy": "2025-07-30T18:44:44.664128Z",
     "iopub.status.idle": "2025-07-30T18:44:45.016285Z",
     "shell.execute_reply": "2025-07-30T18:44:45.014938Z",
     "shell.execute_reply.started": "2025-07-30T18:44:44.664579Z"
    },
    "vscode": {
     "languageId": "python_glue_session"
    }
   },
   "outputs": [
    {
     "name": "stdout",
     "output_type": "stream",
     "text": [
      "           index                   ts  ...  booking_time_diff_min  geodesic_distance\n",
      "0        2374378  2020-10-10 07:34:16  ...               26705254              17.40\n",
      "1        2405894  2020-10-11 08:23:42  ...                   1489               4.08\n",
      "2        2406076  2020-10-11 11:57:17  ...                    213               4.05\n",
      "3        2500477  2020-10-16 17:51:07  ...                   7553               3.62\n",
      "4        2694503  2020-10-30 09:00:44  ...                  19629               3.10\n",
      "...          ...                  ...  ...                    ...                ...\n",
      "3708835  5768115  2021-02-12 19:37:11  ...                   1498               3.79\n",
      "3708836  6102760  2021-02-19 20:43:25  ...                  10146              11.88\n",
      "3708837  6137206  2021-02-20 17:34:45  ...                   1251               2.17\n",
      "3708838  6555089  2021-02-27 08:26:23  ...                   9531               4.56\n",
      "3708839  6888302  2021-03-04 19:13:13  ...                   7846               8.65\n",
      "\n",
      "[3708840 rows x 18 columns]\n"
     ]
    }
   ],
   "source": [
    "df"
   ]
  },
  {
   "cell_type": "code",
   "execution_count": 48,
   "metadata": {
    "execution": {
     "iopub.execute_input": "2025-07-30T18:44:45.633387Z",
     "iopub.status.busy": "2025-07-30T18:44:45.633097Z",
     "iopub.status.idle": "2025-07-30T18:44:45.915332Z",
     "shell.execute_reply": "2025-07-30T18:44:45.914498Z",
     "shell.execute_reply.started": "2025-07-30T18:44:45.633366Z"
    },
    "vscode": {
     "languageId": "python_glue_session"
    }
   },
   "outputs": [
    {
     "name": "stdout",
     "output_type": "stream",
     "text": [
      "Number of Good Ride Requests: 3708840\n"
     ]
    }
   ],
   "source": [
    "print(\"Number of Good Ride Requests: {}\".format(len(df)))"
   ]
  },
  {
   "cell_type": "code",
   "execution_count": 49,
   "metadata": {
    "execution": {
     "iopub.execute_input": "2025-07-30T18:44:46.851724Z",
     "iopub.status.busy": "2025-07-30T18:44:46.851450Z",
     "iopub.status.idle": "2025-07-30T18:44:48.367165Z",
     "shell.execute_reply": "2025-07-30T18:44:48.366393Z",
     "shell.execute_reply.started": "2025-07-30T18:44:46.851702Z"
    },
    "vscode": {
     "languageId": "python_glue_session"
    }
   },
   "outputs": [
    {
     "name": "stdout",
     "output_type": "stream",
     "text": [
      "Number of Pickup Requests Outside Bangalore:  155908\n",
      "Number of Customers pickup outside Bangalore:  20473\n",
      "Number of Drops Requests Outside Bangalore:  167338\n",
      "Number of Customers Drop outside Bangalore:  26878\n"
     ]
    }
   ],
   "source": [
    "## How many pickups and drops are outside bangalore?\n",
    "pck_outside_bng = df[(df.pick_lat<=12.8340125) | (df.pick_lat>=13.1436649) | (df.pick_lng<=77.4601025) | (df.pick_lng>=77.7840515)]\n",
    "drp_outside_bng = df[(df.drop_lat<=12.8340125) | (df.drop_lat>=13.1436649) | (df.drop_lng<=77.4601025) | (df.drop_lng>=77.7840515)]\n",
    "print(\"Number of Pickup Requests Outside Bangalore: \",len(pck_outside_bng))\n",
    "print(\"Number of Customers pickup outside Bangalore: \",len(np.unique(pck_outside_bng['number'].values)))\n",
    "\n",
    "print(\"Number of Drops Requests Outside Bangalore: \",len(drp_outside_bng))\n",
    "print(\"Number of Customers Drop outside Bangalore: \",len(np.unique(drp_outside_bng['number'].values)))"
   ]
  },
  {
   "cell_type": "code",
   "execution_count": 50,
   "metadata": {
    "execution": {
     "iopub.execute_input": "2025-07-30T18:44:49.027767Z",
     "iopub.status.busy": "2025-07-30T18:44:49.027409Z",
     "iopub.status.idle": "2025-07-30T18:44:49.394653Z",
     "shell.execute_reply": "2025-07-30T18:44:49.394009Z",
     "shell.execute_reply.started": "2025-07-30T18:44:49.027743Z"
    },
    "vscode": {
     "languageId": "python_glue_session"
    }
   },
   "outputs": [
    {
     "name": "stdout",
     "output_type": "stream",
     "text": [
      "Pickups Outisde KA: 38807 \n",
      "Drop outside KA: 39585\n",
      "Number of Customers Drop outside KA:  6917\n",
      "Number of Customers pickup outside KA:  6302\n"
     ]
    }
   ],
   "source": [
    "### Bounding PickUp Lat-Long Within State Karnataka\n",
    "# ['11.5945587', '18.4767308', '74.0543908', '78.588083']\n",
    "pck_outside_KA = df[(df.pick_lat<=11.5945587) | (df.pick_lat>=18.4767308) | (df.pick_lng<=74.0543908) | (df.pick_lng>=78.588083)]\n",
    "drp_outside_KA = df[(df.drop_lat<=11.5945587) | (df.drop_lat>=18.4767308) | (df.drop_lng<=74.0543908) | (df.drop_lng>=78.588083)]\n",
    "print(\"Pickups Outisde KA: {} \\nDrop outside KA: {}\".format(len(pck_outside_KA),len(drp_outside_KA)))\n",
    "print(\"Number of Customers Drop outside KA: \",len(np.unique(drp_outside_KA['number'].values)))\n",
    "print(\"Number of Customers pickup outside KA: \",len(np.unique(pck_outside_KA['number'].values)))"
   ]
  },
  {
   "cell_type": "code",
   "execution_count": 51,
   "metadata": {
    "execution": {
     "iopub.execute_input": "2025-07-30T18:44:50.012321Z",
     "iopub.status.busy": "2025-07-30T18:44:50.011734Z",
     "iopub.status.idle": "2025-07-30T18:44:50.416220Z",
     "shell.execute_reply": "2025-07-30T18:44:50.415419Z",
     "shell.execute_reply.started": "2025-07-30T18:44:50.012292Z"
    },
    "vscode": {
     "languageId": "python_glue_session"
    }
   },
   "outputs": [
    {
     "name": "stdout",
     "output_type": "stream",
     "text": [
      "\n"
     ]
    }
   ],
   "source": [
    "total_ride_outside_KA = df[(df.pick_lat<=11.5945587) | (df.pick_lat>=18.4767308) | (df.pick_lng<=74.0543908) | (df.pick_lng>=78.588083) | (df.drop_lat<=11.5945587) | (df.drop_lat>=18.4767308) | (df.drop_lng<=74.0543908) | (df.drop_lng>=78.588083)]"
   ]
  },
  {
   "cell_type": "code",
   "execution_count": 52,
   "metadata": {
    "execution": {
     "iopub.execute_input": "2025-07-30T18:44:52.083030Z",
     "iopub.status.busy": "2025-07-30T18:44:52.082248Z",
     "iopub.status.idle": "2025-07-30T18:44:52.358802Z",
     "shell.execute_reply": "2025-07-30T18:44:52.358128Z",
     "shell.execute_reply.started": "2025-07-30T18:44:52.083001Z"
    },
    "vscode": {
     "languageId": "python_glue_session"
    }
   },
   "outputs": [
    {
     "name": "stdout",
     "output_type": "stream",
     "text": [
      "Total Ride Outside Karnataka: 39632\n"
     ]
    }
   ],
   "source": [
    "print(\"Total Ride Outside Karnataka: {}\".format(len(total_ride_outside_KA)))"
   ]
  },
  {
   "cell_type": "markdown",
   "metadata": {},
   "source": [
    "### Total Ride Outside Karnataka: 39632\n",
    "### OLA Bikes doesnot provide intercity requests. Considering these as system error requests\n",
    "\n",
    "Source: https://www.olacabs.com/"
   ]
  },
  {
   "cell_type": "code",
   "execution_count": 53,
   "metadata": {
    "execution": {
     "iopub.execute_input": "2025-07-30T18:44:54.689724Z",
     "iopub.status.busy": "2025-07-30T18:44:54.689433Z",
     "iopub.status.idle": "2025-07-30T18:44:55.126432Z",
     "shell.execute_reply": "2025-07-30T18:44:55.125637Z",
     "shell.execute_reply.started": "2025-07-30T18:44:54.689701Z"
    },
    "vscode": {
     "languageId": "python_glue_session"
    }
   },
   "outputs": [
    {
     "name": "stdout",
     "output_type": "stream",
     "text": [
      "           index                   ts  ...  booking_time_diff_min  geodesic_distance\n",
      "105      4765341  2021-01-21 23:18:35  ...                    852            1061.67\n",
      "7368     1756248  2020-09-08 14:49:08  ...                   1327            1588.02\n",
      "38148     586293  2020-06-04 18:13:54  ...                    459             986.24\n",
      "40544     122197  2020-04-07 11:09:24  ...                   2585             839.86\n",
      "40560     288777  2020-04-29 23:11:41  ...                    698            1369.50\n",
      "...          ...                  ...  ...                    ...                ...\n",
      "3681751   770076  2020-06-25 11:32:12  ...                   1137            1772.80\n",
      "3681752  1086664  2020-07-29 15:29:45  ...                  49196            1779.54\n",
      "3685652  4377242  2021-01-09 14:10:14  ...                    238            1726.83\n",
      "3685653  4377307  2021-01-09 14:57:02  ...                     46            1726.84\n",
      "3699369   723201  2020-06-20 15:09:58  ...                  50741            1603.48\n",
      "\n",
      "[507 rows x 18 columns]\n"
     ]
    }
   ],
   "source": [
    "## Rides for which geodesic distance > 500kms\n",
    "## Pickup and drop not of KA (state where we have maximum booking requests and user base)\n",
    "suspected_bad_rides = total_ride_outside_KA[total_ride_outside_KA.geodesic_distance > 500]\n",
    "suspected_bad_rides"
   ]
  },
  {
   "cell_type": "markdown",
   "metadata": {},
   "source": [
    "### There are 506 rides which are >500kms geodesic distance and are pickup & drop outside KA, these are suspected rides. "
   ]
  },
  {
   "cell_type": "code",
   "execution_count": 54,
   "metadata": {
    "execution": {
     "iopub.execute_input": "2025-07-30T18:44:56.897439Z",
     "iopub.status.busy": "2025-07-30T18:44:56.896824Z",
     "iopub.status.idle": "2025-07-30T18:44:58.291889Z",
     "shell.execute_reply": "2025-07-30T18:44:58.291014Z",
     "shell.execute_reply.started": "2025-07-30T18:44:56.897407Z"
    },
    "vscode": {
     "languageId": "python_glue_session"
    }
   },
   "outputs": [
    {
     "name": "stdout",
     "output_type": "stream",
     "text": [
      "\n"
     ]
    }
   ],
   "source": [
    "df = df[~df.index.isin(suspected_bad_rides.index)].reset_index(drop = True)"
   ]
  },
  {
   "cell_type": "code",
   "execution_count": 55,
   "metadata": {
    "execution": {
     "iopub.execute_input": "2025-07-30T18:44:58.293500Z",
     "iopub.status.busy": "2025-07-30T18:44:58.293084Z",
     "iopub.status.idle": "2025-07-30T18:44:58.646276Z",
     "shell.execute_reply": "2025-07-30T18:44:58.645501Z",
     "shell.execute_reply.started": "2025-07-30T18:44:58.293476Z"
    },
    "vscode": {
     "languageId": "python_glue_session"
    }
   },
   "outputs": [
    {
     "name": "stdout",
     "output_type": "stream",
     "text": [
      "Number of Good Ride Requests: 3708333\n"
     ]
    }
   ],
   "source": [
    "print(\"Number of Good Ride Requests: {}\".format(len(df)))"
   ]
  },
  {
   "cell_type": "code",
   "execution_count": 56,
   "metadata": {
    "execution": {
     "iopub.execute_input": "2025-07-30T18:44:58.647486Z",
     "iopub.status.busy": "2025-07-30T18:44:58.647011Z",
     "iopub.status.idle": "2025-07-30T18:45:00.298465Z",
     "shell.execute_reply": "2025-07-30T18:45:00.297530Z",
     "shell.execute_reply.started": "2025-07-30T18:44:58.647458Z"
    },
    "vscode": {
     "languageId": "python_glue_session"
    }
   },
   "outputs": [
    {
     "name": "stdout",
     "output_type": "stream",
     "text": [
      "\n"
     ]
    }
   ],
   "source": [
    "dataset = df[['ts', 'number', 'pick_lat','pick_lng','drop_lat','drop_lng','geodesic_distance','hour','mins','day','month','year','dayofweek','booking_timestamp','booking_time_diff_hr', 'booking_time_diff_min']]\n"
   ]
  },
  {
   "cell_type": "code",
   "execution_count": 65,
   "metadata": {
    "execution": {
     "iopub.execute_input": "2025-07-30T19:39:56.241842Z",
     "iopub.status.busy": "2025-07-30T19:39:56.241451Z",
     "iopub.status.idle": "2025-07-30T19:41:56.374161Z",
     "shell.execute_reply": "2025-07-30T19:41:56.373323Z",
     "shell.execute_reply.started": "2025-07-30T19:39:56.241815Z"
    },
    "vscode": {
     "languageId": "python_glue_session"
    }
   },
   "outputs": [
    {
     "name": "stdout",
     "output_type": "stream",
     "text": [
      "In-memory gzip-compressed CSV uploaded successfully!\n"
     ]
    }
   ],
   "source": [
    "import io\n",
    "import boto3\n",
    "\n",
    "# Assuming df is your DataFrame and s3 client and bucket_name defined\n",
    "\n",
    "buffer = io.BytesIO()\n",
    "df.to_csv(buffer, index=False, compression='gzip')  # <-- Add compression here\n",
    "buffer.seek(0)  # Reset pointer to start\n",
    "\n",
    "# Upload to S3\n",
    "s3.put_object(Bucket=bucket_name, Key='processed/clean_data.csv.gz', Body=buffer.getvalue())\n",
    "\n",
    "print(\"In-memory gzip-compressed CSV uploaded successfully!\")\n"
   ]
  },
  {
   "cell_type": "code",
   "execution_count": 57,
   "metadata": {
    "execution": {
     "iopub.execute_input": "2025-07-30T18:45:00.304118Z",
     "iopub.status.busy": "2025-07-30T18:45:00.302243Z",
     "iopub.status.idle": "2025-07-30T18:45:00.725161Z",
     "shell.execute_reply": "2025-07-30T18:45:00.723581Z",
     "shell.execute_reply.started": "2025-07-30T18:45:00.304072Z"
    },
    "vscode": {
     "languageId": "python_glue_session"
    }
   },
   "outputs": [
    {
     "name": "stdout",
     "output_type": "stream",
     "text": [
      "FileNotFoundError: [Errno 2] No such file or directory: './../Data/clean_data.csv'\n"
     ]
    }
   ],
   "source": [
    "dataset.to_csv('./../Data/clean_data.csv',index = False, compression = 'gzip')"
   ]
  },
  {
   "cell_type": "markdown",
   "metadata": {},
   "source": [
    "## Some Stats: Of 1year of Ride Requests Data at OLA Bikes\n",
    "### Ride request of same user with same timestamp: 113540\n",
    "### None user_id: 116\n",
    "### Number of requests to same pickup lat-long by a user within 1hour: 39,79,554\n",
    "### Number of rides by a user within 8mins of booking to different pickup lat-long: 611891\n",
    "### Number of Rides Requests less than 50meters of pickup and drop: 14460\n",
    "### Number of Rides pickup or drop lat-long outside India: 642\n",
    "\n",
    "### Our majority ride state is Karnataka\n",
    "#### Total Ride Outside Karnataka (pickup or drop): 39632\n",
    "\n",
    "### Rides which are outside KA and pickup to drop distance is >500kms: 506\n",
    "\n",
    "## Number of Good Ride Requests: 3708329"
   ]
  },
  {
   "cell_type": "code",
   "execution_count": null,
   "metadata": {
    "vscode": {
     "languageId": "python_glue_session"
    }
   },
   "outputs": [],
   "source": []
  },
  {
   "cell_type": "code",
   "execution_count": null,
   "metadata": {
    "vscode": {
     "languageId": "python_glue_session"
    }
   },
   "outputs": [],
   "source": []
  },
  {
   "cell_type": "code",
   "execution_count": null,
   "metadata": {
    "vscode": {
     "languageId": "python_glue_session"
    }
   },
   "outputs": [],
   "source": []
  },
  {
   "cell_type": "code",
   "execution_count": null,
   "metadata": {
    "vscode": {
     "languageId": "python_glue_session"
    }
   },
   "outputs": [],
   "source": []
  }
 ],
 "metadata": {
  "kernelspec": {
   "display_name": "Glue PySpark",
   "language": "python",
   "name": "glue_pyspark"
  },
  "language_info": {
   "codemirror_mode": {
    "name": "python",
    "version": 3
   },
   "file_extension": ".py",
   "mimetype": "text/x-python",
   "name": "Python_Glue_Session",
   "pygments_lexer": "python3"
  }
 },
 "nbformat": 4,
 "nbformat_minor": 4
}
