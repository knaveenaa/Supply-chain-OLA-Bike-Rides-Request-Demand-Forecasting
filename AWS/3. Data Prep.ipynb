{
 "cells": [
  {
   "cell_type": "markdown",
   "metadata": {},
   "source": [
    "## Of 1year of Ride Requests Data at OLA Bikes\n",
    "\n",
    "Time Window: 2020-03-26 to 2021-03-26\n",
    "\n",
    "## Number of Good Ride Requests: 3708329"
   ]
  },
  {
   "cell_type": "code",
   "execution_count": 2,
   "metadata": {
    "execution": {
     "iopub.execute_input": "2025-07-30T19:55:05.852755Z",
     "iopub.status.busy": "2025-07-30T19:55:05.852495Z",
     "iopub.status.idle": "2025-07-30T19:55:07.735077Z",
     "shell.execute_reply": "2025-07-30T19:55:07.733930Z",
     "shell.execute_reply.started": "2025-07-30T19:55:05.852728Z"
    }
   },
   "outputs": [
    {
     "name": "stdout",
     "output_type": "stream",
     "text": [
      "Welcome to the Glue Interactive Sessions Kernel\n",
      "For more information on available magic commands, please type %help in any new cell.\n",
      "\n",
      "Please view our Getting Started page to access the most up-to-date information on the Interactive Sessions kernel: https://docs.aws.amazon.com/glue/latest/dg/interactive-sessions.html\n",
      "Installed kernel version: 1.0.9 \n",
      "Requirement already satisfied: ydata-profiling in /opt/conda/lib/python3.12/site-packages (4.16.1)\n",
      "Requirement already satisfied: scipy<1.16,>=1.4.1 in /opt/conda/lib/python3.12/site-packages (from ydata-profiling) (1.15.2)\n",
      "Requirement already satisfied: pandas!=1.4.0,<3.0,>1.1 in /opt/conda/lib/python3.12/site-packages (from ydata-profiling) (2.2.3)\n",
      "Requirement already satisfied: matplotlib<=3.10,>=3.5 in /opt/conda/lib/python3.12/site-packages (from ydata-profiling) (3.10.0)\n",
      "Requirement already satisfied: pydantic>=2 in /opt/conda/lib/python3.12/site-packages (from ydata-profiling) (2.11.7)\n",
      "Requirement already satisfied: PyYAML<6.1,>=5.0.0 in /opt/conda/lib/python3.12/site-packages (from ydata-profiling) (6.0.2)\n",
      "Requirement already satisfied: jinja2<3.2,>=2.11.1 in /opt/conda/lib/python3.12/site-packages (from ydata-profiling) (3.1.6)\n",
      "Requirement already satisfied: visions<0.8.2,>=0.7.5 in /opt/conda/lib/python3.12/site-packages (from visions[type_image_path]<0.8.2,>=0.7.5->ydata-profiling) (0.8.1)\n",
      "Requirement already satisfied: numpy<2.2,>=1.16.0 in /opt/conda/lib/python3.12/site-packages (from ydata-profiling) (1.26.4)\n",
      "Requirement already satisfied: htmlmin==0.1.12 in /opt/conda/lib/python3.12/site-packages (from ydata-profiling) (0.1.12)\n",
      "Requirement already satisfied: phik<0.13,>=0.11.1 in /opt/conda/lib/python3.12/site-packages (from ydata-profiling) (0.12.5)\n",
      "Requirement already satisfied: requests<3,>=2.24.0 in /opt/conda/lib/python3.12/site-packages (from ydata-profiling) (2.32.4)\n",
      "Requirement already satisfied: tqdm<5,>=4.48.2 in /opt/conda/lib/python3.12/site-packages (from ydata-profiling) (4.67.1)\n",
      "Requirement already satisfied: seaborn<0.14,>=0.10.1 in /opt/conda/lib/python3.12/site-packages (from ydata-profiling) (0.13.2)\n",
      "Requirement already satisfied: multimethod<2,>=1.4 in /opt/conda/lib/python3.12/site-packages (from ydata-profiling) (1.12)\n",
      "Requirement already satisfied: statsmodels<1,>=0.13.2 in /opt/conda/lib/python3.12/site-packages (from ydata-profiling) (0.14.5)\n",
      "Requirement already satisfied: typeguard<5,>=3 in /opt/conda/lib/python3.12/site-packages (from ydata-profiling) (4.4.4)\n",
      "Requirement already satisfied: imagehash==4.3.1 in /opt/conda/lib/python3.12/site-packages (from ydata-profiling) (4.3.1)\n",
      "Requirement already satisfied: wordcloud>=1.9.3 in /opt/conda/lib/python3.12/site-packages (from ydata-profiling) (1.9.4)\n",
      "Requirement already satisfied: dacite>=1.8 in /opt/conda/lib/python3.12/site-packages (from ydata-profiling) (1.9.2)\n",
      "Requirement already satisfied: numba<=0.61,>=0.56.0 in /opt/conda/lib/python3.12/site-packages (from ydata-profiling) (0.61.0)\n",
      "Requirement already satisfied: PyWavelets in /opt/conda/lib/python3.12/site-packages (from imagehash==4.3.1->ydata-profiling) (1.8.0)\n",
      "Requirement already satisfied: pillow in /opt/conda/lib/python3.12/site-packages (from imagehash==4.3.1->ydata-profiling) (11.3.0)\n",
      "Requirement already satisfied: MarkupSafe>=2.0 in /opt/conda/lib/python3.12/site-packages (from jinja2<3.2,>=2.11.1->ydata-profiling) (2.1.5)\n",
      "Requirement already satisfied: contourpy>=1.0.1 in /opt/conda/lib/python3.12/site-packages (from matplotlib<=3.10,>=3.5->ydata-profiling) (1.3.2)\n",
      "Requirement already satisfied: cycler>=0.10 in /opt/conda/lib/python3.12/site-packages (from matplotlib<=3.10,>=3.5->ydata-profiling) (0.12.1)\n",
      "Requirement already satisfied: fonttools>=4.22.0 in /opt/conda/lib/python3.12/site-packages (from matplotlib<=3.10,>=3.5->ydata-profiling) (4.58.5)\n",
      "Requirement already satisfied: kiwisolver>=1.3.1 in /opt/conda/lib/python3.12/site-packages (from matplotlib<=3.10,>=3.5->ydata-profiling) (1.4.8)\n",
      "Requirement already satisfied: packaging>=20.0 in /opt/conda/lib/python3.12/site-packages (from matplotlib<=3.10,>=3.5->ydata-profiling) (24.2)\n",
      "Requirement already satisfied: pyparsing>=2.3.1 in /opt/conda/lib/python3.12/site-packages (from matplotlib<=3.10,>=3.5->ydata-profiling) (3.2.3)\n",
      "Requirement already satisfied: python-dateutil>=2.7 in /opt/conda/lib/python3.12/site-packages (from matplotlib<=3.10,>=3.5->ydata-profiling) (2.9.0.post0)\n",
      "Requirement already satisfied: llvmlite<0.45,>=0.44.0dev0 in /opt/conda/lib/python3.12/site-packages (from numba<=0.61,>=0.56.0->ydata-profiling) (0.44.0)\n",
      "Requirement already satisfied: pytz>=2020.1 in /opt/conda/lib/python3.12/site-packages (from pandas!=1.4.0,<3.0,>1.1->ydata-profiling) (2024.2)\n",
      "Requirement already satisfied: tzdata>=2022.7 in /opt/conda/lib/python3.12/site-packages (from pandas!=1.4.0,<3.0,>1.1->ydata-profiling) (2025.2)\n",
      "Requirement already satisfied: joblib>=0.14.1 in /opt/conda/lib/python3.12/site-packages (from phik<0.13,>=0.11.1->ydata-profiling) (1.1.1)\n",
      "Requirement already satisfied: charset_normalizer<4,>=2 in /opt/conda/lib/python3.12/site-packages (from requests<3,>=2.24.0->ydata-profiling) (3.4.2)\n",
      "Requirement already satisfied: idna<4,>=2.5 in /opt/conda/lib/python3.12/site-packages (from requests<3,>=2.24.0->ydata-profiling) (3.10)\n",
      "Requirement already satisfied: urllib3<3,>=1.21.1 in /opt/conda/lib/python3.12/site-packages (from requests<3,>=2.24.0->ydata-profiling) (1.26.19)\n",
      "Requirement already satisfied: certifi>=2017.4.17 in /opt/conda/lib/python3.12/site-packages (from requests<3,>=2.24.0->ydata-profiling) (2025.6.15)\n",
      "Requirement already satisfied: patsy>=0.5.6 in /opt/conda/lib/python3.12/site-packages (from statsmodels<1,>=0.13.2->ydata-profiling) (1.0.1)\n",
      "Requirement already satisfied: typing_extensions>=4.14.0 in /opt/conda/lib/python3.12/site-packages (from typeguard<5,>=3->ydata-profiling) (4.14.1)\n",
      "Requirement already satisfied: attrs>=19.3.0 in /opt/conda/lib/python3.12/site-packages (from visions<0.8.2,>=0.7.5->visions[type_image_path]<0.8.2,>=0.7.5->ydata-profiling) (23.2.0)\n",
      "Requirement already satisfied: networkx>=2.4 in /opt/conda/lib/python3.12/site-packages (from visions<0.8.2,>=0.7.5->visions[type_image_path]<0.8.2,>=0.7.5->ydata-profiling) (3.5)\n",
      "Requirement already satisfied: puremagic in /opt/conda/lib/python3.12/site-packages (from visions<0.8.2,>=0.7.5->visions[type_image_path]<0.8.2,>=0.7.5->ydata-profiling) (1.30)\n",
      "Requirement already satisfied: annotated-types>=0.6.0 in /opt/conda/lib/python3.12/site-packages (from pydantic>=2->ydata-profiling) (0.7.0)\n",
      "Requirement already satisfied: pydantic-core==2.33.2 in /opt/conda/lib/python3.12/site-packages (from pydantic>=2->ydata-profiling) (2.33.2)\n",
      "Requirement already satisfied: typing-inspection>=0.4.0 in /opt/conda/lib/python3.12/site-packages (from pydantic>=2->ydata-profiling) (0.4.1)\n",
      "Requirement already satisfied: six>=1.5 in /opt/conda/lib/python3.12/site-packages (from python-dateutil>=2.7->matplotlib<=3.10,>=3.5->ydata-profiling) (1.17.0)\n"
     ]
    }
   ],
   "source": [
    "!pip install --upgrade ydata-profiling"
   ]
  },
  {
   "cell_type": "code",
   "execution_count": 4,
   "metadata": {
    "execution": {
     "iopub.execute_input": "2025-07-30T19:55:07.737459Z",
     "iopub.status.busy": "2025-07-30T19:55:07.736592Z",
     "iopub.status.idle": "2025-07-30T19:55:07.746569Z",
     "shell.execute_reply": "2025-07-30T19:55:07.745888Z",
     "shell.execute_reply.started": "2025-07-30T19:55:07.737413Z"
    }
   },
   "outputs": [
    {
     "name": "stdout",
     "output_type": "stream",
     "text": [
      "There is no current session.\n"
     ]
    }
   ],
   "source": [
    "# First, cleanly stop your current session\n",
    "%stop_session\n"
   ]
  },
  {
   "cell_type": "code",
   "execution_count": 1,
   "metadata": {
    "execution": {
     "iopub.execute_input": "2025-07-30T19:55:07.748154Z",
     "iopub.status.busy": "2025-07-30T19:55:07.747825Z",
     "iopub.status.idle": "2025-07-30T19:55:47.230258Z",
     "shell.execute_reply": "2025-07-30T19:55:47.228338Z",
     "shell.execute_reply.started": "2025-07-30T19:55:07.748128Z"
    }
   },
   "outputs": [
    {
     "name": "stderr",
     "output_type": "stream",
     "text": [
      "UsageError: Line magic function `%start_session` not found.\n"
     ]
    },
    {
     "name": "stdout",
     "output_type": "stream",
     "text": [
      "Trying to create a Glue session for the kernel.\n",
      "Session Type: etl\n",
      "Session ID: 0484e41f-9732-4565-8d1e-941de006bac6\n",
      "Applying the following default arguments:\n",
      "--glue_kernel_version 1.0.9\n",
      "--enable-glue-datacatalog true\n",
      "Waiting for session 0484e41f-9732-4565-8d1e-941de006bac6 to get into ready status...\n",
      "Session 0484e41f-9732-4565-8d1e-941de006bac6 has been created.\n",
      "IndentationError: unexpected indent (<stdin>, line 1)\n"
     ]
    }
   ],
   "source": [
    "%start_session \\\n",
    "    --glue_version 3.0 \\\n",
    "    --idle_timeout 2880 \\\n",
    "    --worker_type G.1X \\\n",
    "    --number_of_workers 5 \\\n",
    "    --additional_python_modules \"geopy==2.4.1,gpxpy==1.5.0\" \\\n",
    "    --conf \"{\\\"spark.pyspark.virtualenv.enabled\\\":\\\"true\\\"}\""
   ]
  },
  {
   "cell_type": "code",
   "execution_count": 7,
   "metadata": {
    "execution": {
     "iopub.execute_input": "2025-07-30T19:55:53.216767Z",
     "iopub.status.busy": "2025-07-30T19:55:53.216407Z",
     "iopub.status.idle": "2025-07-30T19:55:54.888441Z",
     "shell.execute_reply": "2025-07-30T19:55:54.887395Z",
     "shell.execute_reply.started": "2025-07-30T19:55:53.216740Z"
    }
   },
   "outputs": [
    {
     "name": "stdout",
     "output_type": "stream",
     "text": [
      "Requirement already satisfied: gpxpy in /opt/conda/lib/python3.12/site-packages (1.6.2)\n"
     ]
    }
   ],
   "source": [
    "!pip install gpxpy"
   ]
  },
  {
   "cell_type": "code",
   "execution_count": 2,
   "metadata": {
    "execution": {
     "iopub.execute_input": "2025-07-30T19:55:54.890497Z",
     "iopub.status.busy": "2025-07-30T19:55:54.889956Z",
     "iopub.status.idle": "2025-07-30T19:55:56.330272Z",
     "shell.execute_reply": "2025-07-30T19:55:56.329388Z",
     "shell.execute_reply.started": "2025-07-30T19:55:54.890465Z"
    }
   },
   "outputs": [
    {
     "name": "stdout",
     "output_type": "stream",
     "text": [
      "ModuleNotFoundError: No module named 'gpxpy'\n"
     ]
    }
   ],
   "source": [
    "import gpxpy\n",
    "import gpxpy.geo\n",
    "import geopy"
   ]
  },
  {
   "cell_type": "code",
   "execution_count": 1,
   "metadata": {
    "execution": {
     "iopub.execute_input": "2025-07-30T19:56:27.929530Z",
     "iopub.status.busy": "2025-07-30T19:56:27.929175Z",
     "iopub.status.idle": "2025-07-30T19:57:06.692923Z",
     "shell.execute_reply": "2025-07-30T19:57:06.691759Z",
     "shell.execute_reply.started": "2025-07-30T19:56:27.929506Z"
    }
   },
   "outputs": [
    {
     "name": "stdout",
     "output_type": "stream",
     "text": [
      "Welcome to the Glue Interactive Sessions Kernel\n",
      "For more information on available magic commands, please type %help in any new cell.\n",
      "\n",
      "Please view our Getting Started page to access the most up-to-date information on the Interactive Sessions kernel: https://docs.aws.amazon.com/glue/latest/dg/interactive-sessions.html\n",
      "Installed kernel version: 1.0.9 \n",
      "Trying to create a Glue session for the kernel.\n",
      "Session Type: etl\n",
      "Session ID: 4790117e-98d6-472f-a02f-a2f3df4517b1\n",
      "Applying the following default arguments:\n",
      "--glue_kernel_version 1.0.9\n",
      "--enable-glue-datacatalog true\n",
      "Waiting for session 4790117e-98d6-472f-a02f-a2f3df4517b1 to get into ready status...\n",
      "Session 4790117e-98d6-472f-a02f-a2f3df4517b1 has been created.\n",
      "ModuleNotFoundError: No module named 'ydata_profiling'\n"
     ]
    }
   ],
   "source": [
    "\n",
    "import numpy as np\n",
    "from copy import deepcopy\n",
    "from matplotlib import pyplot as plt\n",
    "from sklearn.cluster import MiniBatchKMeans, KMeans\n",
    "from datetime import datetime, timedelta\n",
    "from joblib import dump, load\n",
    "from ydata_profiling import ProfileReport  # Correct import for ydata-profiling"
   ]
  },
  {
   "cell_type": "code",
   "execution_count": 2,
   "metadata": {
    "execution": {
     "iopub.execute_input": "2025-07-30T19:57:10.625605Z",
     "iopub.status.busy": "2025-07-30T19:57:10.624993Z",
     "iopub.status.idle": "2025-07-30T19:57:28.593347Z",
     "shell.execute_reply": "2025-07-30T19:57:28.592547Z",
     "shell.execute_reply.started": "2025-07-30T19:57:10.625576Z"
    }
   },
   "outputs": [
    {
     "name": "stdout",
     "output_type": "stream",
     "text": [
      "     index                   ts  ...  booking_time_diff_min  geodesic_distance\n",
      "0  2374378  2020-10-10 07:34:16  ...               26705254              17.40\n",
      "1  2405894  2020-10-11 08:23:42  ...                   1489               4.08\n",
      "2  2406076  2020-10-11 11:57:17  ...                    213               4.05\n",
      "3  2500477  2020-10-16 17:51:07  ...                   7553               3.62\n",
      "4  2694503  2020-10-30 09:00:44  ...                  19629               3.10\n",
      "\n",
      "[5 rows x 18 columns]\n"
     ]
    }
   ],
   "source": [
    "import boto3\n",
    "import pandas as pd\n",
    "import io\n",
    "\n",
    "# Initialize boto3 client if not already done\n",
    "s3 = boto3.client('s3')\n",
    "\n",
    "bucket_name = 'demand-prediction-ola-rides'        # Replace with your bucket\n",
    "file_key = 'processed/clean_data.csv.gz'  # Your gzip file key\n",
    "\n",
    "# Get the object from S3\n",
    "response = s3.get_object(Bucket=bucket_name, Key=file_key)\n",
    "\n",
    "# Read the compressed data from the response body\n",
    "compressed_body = response['Body'].read()\n",
    "\n",
    "# Convert bytes data to a BytesIO buffer\n",
    "buffer = io.BytesIO(compressed_body)\n",
    "\n",
    "# Read CSV with gzip compression\n",
    "df = pd.read_csv(buffer, compression='gzip')\n",
    "\n",
    "# Preview\n",
    "print(df.head())\n"
   ]
  },
  {
   "cell_type": "code",
   "execution_count": null,
   "metadata": {
    "execution": {
     "iopub.status.busy": "2025-07-30T19:55:47.235126Z",
     "iopub.status.idle": "2025-07-30T19:55:47.235695Z",
     "shell.execute_reply": "2025-07-30T19:55:47.235528Z",
     "shell.execute_reply.started": "2025-07-30T19:55:47.235515Z"
    }
   },
   "outputs": [],
   "source": [
    "len(df)"
   ]
  },
  {
   "cell_type": "markdown",
   "metadata": {},
   "source": [
    "# Geospacial Feature Engineering - Clustering/Segmentation\n",
    "## Here, we have divided whole India into regions using “K-Means Clustering”."
   ]
  },
  {
   "cell_type": "code",
   "execution_count": null,
   "metadata": {
    "execution": {
     "iopub.status.busy": "2025-07-30T19:55:47.236241Z",
     "iopub.status.idle": "2025-07-30T19:55:47.236562Z",
     "shell.execute_reply": "2025-07-30T19:55:47.236467Z",
     "shell.execute_reply.started": "2025-07-30T19:55:47.236457Z"
    }
   },
   "outputs": [],
   "source": [
    "coord = df[[\"pick_lat\", \"pick_lng\"]].values\n",
    "neighbors = []\n"
   ]
  },
  {
   "cell_type": "code",
   "execution_count": null,
   "metadata": {
    "execution": {
     "iopub.status.busy": "2025-07-30T19:55:47.237145Z",
     "iopub.status.idle": "2025-07-30T19:55:47.237469Z",
     "shell.execute_reply": "2025-07-30T19:55:47.237371Z",
     "shell.execute_reply.started": "2025-07-30T19:55:47.237360Z"
    }
   },
   "outputs": [],
   "source": [
    "def min_distance(regionCenters, totalClusters):\n",
    "    good_points = 0\n",
    "    bad_points = 0\n",
    "    less_dist = []\n",
    "    more_dist = []\n",
    "    min_distance = np.inf  #any big number can be given here\n",
    "    for i in range(totalClusters):\n",
    "        good_points = 0\n",
    "        bad_points = 0\n",
    "        for j in range(totalClusters):\n",
    "            if j != i:\n",
    "                distance = gpxpy.geo.haversine_distance(latitude_1 = regionCenters[i][0], longitude_1 = regionCenters[i][1], latitude_2 = regionCenters[j][0], longitude_2 = regionCenters[j][1])\n",
    "                distance = distance/(1.60934*1000)   #distance from meters to miles\n",
    "                min_distance = min(min_distance, distance) #it will return minimum of \"min_distance, distance\".\n",
    "                if distance < 2:\n",
    "                    good_points += 1\n",
    "                else:\n",
    "                    bad_points += 1\n",
    "        less_dist.append(good_points)\n",
    "        more_dist.append(bad_points)\n",
    "    print(\"On choosing a cluster size of {}\".format(totalClusters))\n",
    "    print(\"Avg. Number clusters within vicinity where inter cluster distance < 2 miles is {}\".format(np.ceil(sum(less_dist)/len(less_dist))))\n",
    "    print(\"Avg. Number clusters outside of vicinity where inter cluster distance > 2 miles is {}\".format(np.ceil(sum(more_dist)/len(more_dist))))\n",
    "    print(\"Minimum distance between any two clusters = {}\".format(min_distance))\n",
    "    print(\"-\"*10)\n",
    "            \n",
    "def makingRegions(noOfRegions):\n",
    "    regions = MiniBatchKMeans(n_clusters = noOfRegions, batch_size = 10000, random_state = 5).fit(coord)\n",
    "    regionCenters = regions.cluster_centers_ \n",
    "    totalClusters = len(regionCenters)\n",
    "    return regionCenters, totalClusters"
   ]
  },
  {
   "cell_type": "code",
   "execution_count": null,
   "metadata": {
    "execution": {
     "iopub.status.busy": "2025-07-30T19:55:47.237993Z",
     "iopub.status.idle": "2025-07-30T19:55:47.238348Z",
     "shell.execute_reply": "2025-07-30T19:55:47.238232Z",
     "shell.execute_reply.started": "2025-07-30T19:55:47.238220Z"
    }
   },
   "outputs": [],
   "source": [
    "startTime = datetime.now()\n",
    "for i in range(10, 100, 10):\n",
    "    regionCenters, totalClusters = makingRegions(i)\n",
    "    min_distance(regionCenters, totalClusters)\n",
    "print(\"Time taken = \"+str(datetime.now() - startTime))"
   ]
  },
  {
   "cell_type": "markdown",
   "metadata": {},
   "source": [
    "### I want the minimum inter cluster distance between any two clusters to be less than 0.5miles and when number of clusters are 50 then this condition is meeting. Therefore, we are considering number of clusters to be 50.\n",
    "\n",
    "The MiniBatchKMeans is a variant of the KMeans algorithm which uses mini-batches to reduce the computation time, while still attempting to optimise the same objective function. Mini-batches are subsets of the input data, randomly sampled in each training iteration. These mini-batches drastically reduce the amount of computation required to converge to a local solution. In contrast to other algorithms that reduce the convergence time of k-means, mini-batch k-means produces results that are generally only slightly worse than the standard algorithm."
   ]
  },
  {
   "cell_type": "code",
   "execution_count": null,
   "metadata": {
    "execution": {
     "iopub.status.busy": "2025-07-30T19:55:47.238857Z",
     "iopub.status.idle": "2025-07-30T19:55:47.239245Z",
     "shell.execute_reply": "2025-07-30T19:55:47.239111Z",
     "shell.execute_reply.started": "2025-07-30T19:55:47.239100Z"
    }
   },
   "outputs": [],
   "source": [
    "coord = df[[\"pick_lat\", \"pick_lng\"]].values\n",
    "regions = MiniBatchKMeans(n_clusters = 50, batch_size = 10000, random_state = 0).fit(coord)\n",
    "df[\"pickup_cluster\"] = regions.predict(df[[\"pick_lat\", \"pick_lng\"]])"
   ]
  },
  {
   "cell_type": "code",
   "execution_count": null,
   "metadata": {
    "execution": {
     "iopub.status.busy": "2025-07-30T19:55:47.239770Z",
     "iopub.status.idle": "2025-07-30T19:55:47.240101Z",
     "shell.execute_reply": "2025-07-30T19:55:47.240003Z",
     "shell.execute_reply.started": "2025-07-30T19:55:47.239993Z"
    }
   },
   "outputs": [],
   "source": [
    "df"
   ]
  },
  {
   "cell_type": "code",
   "execution_count": null,
   "metadata": {
    "execution": {
     "iopub.status.busy": "2025-07-30T19:55:47.240603Z",
     "iopub.status.idle": "2025-07-30T19:55:47.240962Z",
     "shell.execute_reply": "2025-07-30T19:55:47.240862Z",
     "shell.execute_reply.started": "2025-07-30T19:55:47.240851Z"
    }
   },
   "outputs": [],
   "source": [
    "### Model to Define pickup cluster, given latitude and longitude\n",
    "dump(regions, '../data/pickup_cluster_model.joblib', compress = 3)"
   ]
  },
  {
   "cell_type": "code",
   "execution_count": null,
   "metadata": {
    "execution": {
     "iopub.status.busy": "2025-07-30T19:55:47.241485Z",
     "iopub.status.idle": "2025-07-30T19:55:47.241811Z",
     "shell.execute_reply": "2025-07-30T19:55:47.241713Z",
     "shell.execute_reply.started": "2025-07-30T19:55:47.241702Z"
    }
   },
   "outputs": [],
   "source": [
    "### These pickup clusters tell in which area most ride requests are coming. \n",
    "### Plotting Regions in Bangalore (our most rides requests here)\n",
    "#### Bangalore:'boundingbox': ['12.8340125', '13.1436649', '77.4601025', '77.7840515']\n",
    "bangalore_latitude_range = (12.8340125, 13.1436649)\n",
    "bangalore_longitude_range = (77.4601025, 77.7840515)\n",
    "fig = plt.figure()\n",
    "ax = fig.add_axes([0,0,1.5,1.5])\n",
    "ax.scatter(x = df.pick_lng.values[:100000], y = df.pick_lat.values[:100000], c = df.pickup_cluster.values[:100000], cmap = \"Paired\", s = 5)\n",
    "ax.set_xlim(77.4601025, 77.7840515)\n",
    "ax.set_ylim(12.8340125, 13.1436649)\n",
    "ax.set_title(\"Regions in Bangalore\")\n",
    "ax.set_xlabel('Longitude')\n",
    "ax.set_ylabel('Latitude')\n",
    "plt.show()\n",
    "#Longitude values vary from left to right i.e., horizontally\n",
    "#Latitude values vary from top to bottom means i.e., vertically"
   ]
  },
  {
   "cell_type": "code",
   "execution_count": null,
   "metadata": {
    "execution": {
     "iopub.status.busy": "2025-07-30T19:55:47.242344Z",
     "iopub.status.idle": "2025-07-30T19:55:47.242682Z",
     "shell.execute_reply": "2025-07-30T19:55:47.242584Z",
     "shell.execute_reply.started": "2025-07-30T19:55:47.242573Z"
    }
   },
   "outputs": [],
   "source": [
    "df.head()"
   ]
  },
  {
   "cell_type": "markdown",
   "metadata": {},
   "source": [
    "## Summing Ride Request Count to 30mins Interval groupby pickup cluster"
   ]
  },
  {
   "cell_type": "code",
   "execution_count": null,
   "metadata": {
    "execution": {
     "iopub.status.busy": "2025-07-30T19:55:47.243177Z",
     "iopub.status.idle": "2025-07-30T19:55:47.243535Z",
     "shell.execute_reply": "2025-07-30T19:55:47.243438Z",
     "shell.execute_reply.started": "2025-07-30T19:55:47.243426Z"
    }
   },
   "outputs": [],
   "source": [
    "def round_timestamp_30interval(x):\n",
    "    if type(x)==str:\n",
    "        x = datetime.strptime(x, '%Y-%m-%d %H:%M:%S')\n",
    "    return x- timedelta(minutes=x.minute%30, seconds=x.second, microseconds=x.microsecond)\n",
    "\n",
    "df['ts'] = np.vectorize(round_timestamp_30interval)(df['ts'])\n"
   ]
  },
  {
   "cell_type": "code",
   "execution_count": null,
   "metadata": {
    "execution": {
     "iopub.status.busy": "2025-07-30T19:55:47.244051Z",
     "iopub.status.idle": "2025-07-30T19:55:47.244421Z",
     "shell.execute_reply": "2025-07-30T19:55:47.244270Z",
     "shell.execute_reply.started": "2025-07-30T19:55:47.244259Z"
    }
   },
   "outputs": [],
   "source": [
    "\n",
    "dataset = deepcopy(df)\n",
    "dataset.ts = pd.to_datetime(dataset.ts)\n",
    "dataset"
   ]
  },
  {
   "cell_type": "code",
   "execution_count": null,
   "metadata": {
    "execution": {
     "iopub.status.busy": "2025-07-30T19:55:47.245069Z",
     "iopub.status.idle": "2025-07-30T19:55:47.245417Z",
     "shell.execute_reply": "2025-07-30T19:55:47.245317Z",
     "shell.execute_reply.started": "2025-07-30T19:55:47.245306Z"
    }
   },
   "outputs": [],
   "source": [
    "dataset = dataset[['ts','number','pickup_cluster']]"
   ]
  },
  {
   "cell_type": "code",
   "execution_count": null,
   "metadata": {
    "execution": {
     "iopub.status.busy": "2025-07-30T19:55:47.246087Z",
     "iopub.status.idle": "2025-07-30T19:55:47.246406Z",
     "shell.execute_reply": "2025-07-30T19:55:47.246312Z",
     "shell.execute_reply.started": "2025-07-30T19:55:47.246301Z"
    }
   },
   "outputs": [],
   "source": [
    "dataset=dataset.groupby(by = ['ts','pickup_cluster']).count().reset_index()\n",
    "dataset.columns = ['ts','pickup_cluster','request_count']"
   ]
  },
  {
   "cell_type": "code",
   "execution_count": null,
   "metadata": {
    "execution": {
     "iopub.status.busy": "2025-07-30T19:55:47.246916Z",
     "iopub.status.idle": "2025-07-30T19:55:47.247277Z",
     "shell.execute_reply": "2025-07-30T19:55:47.247152Z",
     "shell.execute_reply.started": "2025-07-30T19:55:47.247142Z"
    }
   },
   "outputs": [],
   "source": [
    "dataset"
   ]
  },
  {
   "cell_type": "markdown",
   "metadata": {},
   "source": [
    "### There should be: 366days [2020-03-26 to 2021-03-26] * [(24*2) 30mins intervals] * 50 regions = 878400 data rows"
   ]
  },
  {
   "cell_type": "code",
   "execution_count": null,
   "metadata": {
    "execution": {
     "iopub.status.busy": "2025-07-30T19:55:47.247799Z",
     "iopub.status.idle": "2025-07-30T19:55:47.248137Z",
     "shell.execute_reply": "2025-07-30T19:55:47.248035Z",
     "shell.execute_reply.started": "2025-07-30T19:55:47.248007Z"
    }
   },
   "outputs": [],
   "source": [
    "# ## Adding Dummy pickup cluster -1\n",
    "\n",
    "# ## Change this Data based on your data\n",
    "# l = [datetime(2020,3,26,00,00,00) + timedelta(minutes = 30*i) for i in range(0,48*365)]\n",
    "# lt = []\n",
    "# for x in l:\n",
    "#     lt.append([x, -1, 0])\n",
    "# temp = pd.DataFrame(lt, columns = ['ts','pickup_cluster','request_count'])\n",
    "# dataset = dataset.append(temp,ignore_index=True)"
   ]
  },
  {
   "cell_type": "code",
   "execution_count": null,
   "metadata": {
    "execution": {
     "iopub.status.busy": "2025-07-30T19:55:47.248667Z",
     "iopub.status.idle": "2025-07-30T19:55:47.249017Z",
     "shell.execute_reply": "2025-07-30T19:55:47.248903Z",
     "shell.execute_reply.started": "2025-07-30T19:55:47.248893Z"
    }
   },
   "outputs": [],
   "source": [
    "## Adding Dummy pickup cluster -1\n",
    "\n",
    "## Change this Data based on your data\n",
    "l = [datetime(2020,3,26,00,00,00) + timedelta(minutes = 30*i) for i in range(0,48*365)]\n",
    "lt = []\n",
    "for x in l:\n",
    "    lt.append([x, -1, 0])\n",
    "temp = pd.DataFrame(lt, columns = ['ts','pickup_cluster','request_count'])\n",
    "dataset = pd.concat([dataset, temp], ignore_index=True)"
   ]
  },
  {
   "cell_type": "code",
   "execution_count": null,
   "metadata": {
    "execution": {
     "iopub.status.busy": "2025-07-30T19:55:47.249494Z",
     "iopub.status.idle": "2025-07-30T19:55:47.249849Z",
     "shell.execute_reply": "2025-07-30T19:55:47.249735Z",
     "shell.execute_reply.started": "2025-07-30T19:55:47.249724Z"
    }
   },
   "outputs": [],
   "source": [
    "data = dataset.set_index(['ts', 'pickup_cluster']).unstack().fillna(value=0).asfreq(freq='30Min').stack().sort_index(level=1).reset_index()"
   ]
  },
  {
   "cell_type": "code",
   "execution_count": null,
   "metadata": {
    "execution": {
     "iopub.status.busy": "2025-07-30T19:55:47.250349Z",
     "iopub.status.idle": "2025-07-30T19:55:47.250691Z",
     "shell.execute_reply": "2025-07-30T19:55:47.250592Z",
     "shell.execute_reply.started": "2025-07-30T19:55:47.250567Z"
    }
   },
   "outputs": [],
   "source": [
    "data.tail(5)"
   ]
  },
  {
   "cell_type": "code",
   "execution_count": null,
   "metadata": {
    "execution": {
     "iopub.status.busy": "2025-07-30T19:55:47.251169Z",
     "iopub.status.idle": "2025-07-30T19:55:47.251529Z",
     "shell.execute_reply": "2025-07-30T19:55:47.251430Z",
     "shell.execute_reply.started": "2025-07-30T19:55:47.251419Z"
    }
   },
   "outputs": [],
   "source": [
    "# Removing Dummy Cluster\n",
    "data = data[data.pickup_cluster>=0]"
   ]
  },
  {
   "cell_type": "code",
   "execution_count": null,
   "metadata": {
    "execution": {
     "iopub.status.busy": "2025-07-30T19:55:47.252020Z",
     "iopub.status.idle": "2025-07-30T19:55:47.252350Z",
     "shell.execute_reply": "2025-07-30T19:55:47.252252Z",
     "shell.execute_reply.started": "2025-07-30T19:55:47.252241Z"
    }
   },
   "outputs": [],
   "source": [
    "\n",
    "assert len(data)==878400"
   ]
  },
  {
   "cell_type": "markdown",
   "metadata": {},
   "source": [
    "\n",
    "## Adding TimeFeatures\n",
    "### hour, mins, dayofweek, quarter & month (to capture seasonality winter ride count, summer ride count, rainy weather ride count)\n",
    "### During Rainy weather or extreme winter or extreme summer months, ride request will vary with weather"
   ]
  },
  {
   "cell_type": "code",
   "execution_count": null,
   "metadata": {
    "execution": {
     "iopub.status.busy": "2025-07-30T19:55:47.252875Z",
     "iopub.status.idle": "2025-07-30T19:55:47.253212Z",
     "shell.execute_reply": "2025-07-30T19:55:47.253115Z",
     "shell.execute_reply.started": "2025-07-30T19:55:47.253105Z"
    }
   },
   "outputs": [],
   "source": [
    "data['mins'] = data.ts.dt.minute\n",
    "data['hour'] = data.ts.dt.hour\n",
    "data['day'] = data.ts.dt.day\n",
    "data['month'] = data.ts.dt.month\n",
    "data['dayofweek'] = data.ts.dt.dayofweek\n",
    "data['quarter'] = data.ts.dt.quarter"
   ]
  },
  {
   "cell_type": "code",
   "execution_count": null,
   "metadata": {
    "execution": {
     "iopub.status.busy": "2025-07-30T19:55:47.253704Z",
     "iopub.status.idle": "2025-07-30T19:55:47.254035Z",
     "shell.execute_reply": "2025-07-30T19:55:47.253938Z",
     "shell.execute_reply.started": "2025-07-30T19:55:47.253927Z"
    }
   },
   "outputs": [],
   "source": [
    "data"
   ]
  },
  {
   "cell_type": "code",
   "execution_count": null,
   "metadata": {
    "execution": {
     "iopub.status.busy": "2025-07-30T19:55:47.254572Z",
     "iopub.status.idle": "2025-07-30T19:55:47.254936Z",
     "shell.execute_reply": "2025-07-30T19:55:47.254823Z",
     "shell.execute_reply.started": "2025-07-30T19:55:47.254813Z"
    }
   },
   "outputs": [],
   "source": [
    "import io\n",
    "import boto3\n",
    "\n",
    "# Assuming df is your DataFrame and s3 client and bucket_name defined\n",
    "\n",
    "buffer = io.BytesIO()\n",
    "df.to_csv(buffer, index=False, compression='gzip')  # <-- Add compression here\n",
    "buffer.seek(0)  # Reset pointer to start\n",
    "\n",
    "# Upload to S3\n",
    "s3.put_object(Bucket=bucket_name, Key='processed/preprocessed_11.csv.gz', Body=buffer.getvalue())\n",
    "\n",
    "print(\"In-memory gzip-compressed CSV uploaded successfully!\")\n"
   ]
  },
  {
   "cell_type": "code",
   "execution_count": null,
   "metadata": {
    "execution": {
     "iopub.status.busy": "2025-07-30T19:55:47.255447Z",
     "iopub.status.idle": "2025-07-30T19:55:47.255777Z",
     "shell.execute_reply": "2025-07-30T19:55:47.255664Z",
     "shell.execute_reply.started": "2025-07-30T19:55:47.255654Z"
    }
   },
   "outputs": [],
   "source": [
    "profile = data.profile_report(title='Ride Request DataSet Analysis')\n",
    "profile.to_file(output_file=\"data_analysis_ride_request.html\")"
   ]
  },
  {
   "cell_type": "code",
   "execution_count": null,
   "metadata": {
    "execution": {
     "iopub.status.busy": "2025-07-30T19:55:47.256246Z",
     "iopub.status.idle": "2025-07-30T19:55:47.256580Z",
     "shell.execute_reply": "2025-07-30T19:55:47.256487Z",
     "shell.execute_reply.started": "2025-07-30T19:55:47.256476Z"
    }
   },
   "outputs": [],
   "source": [
    "# profile"
   ]
  },
  {
   "cell_type": "code",
   "execution_count": null,
   "metadata": {},
   "outputs": [],
   "source": []
  },
  {
   "cell_type": "code",
   "execution_count": null,
   "metadata": {},
   "outputs": [],
   "source": []
  },
  {
   "cell_type": "code",
   "execution_count": null,
   "metadata": {},
   "outputs": [],
   "source": []
  },
  {
   "cell_type": "code",
   "execution_count": null,
   "metadata": {},
   "outputs": [],
   "source": []
  },
  {
   "cell_type": "code",
   "execution_count": null,
   "metadata": {},
   "outputs": [],
   "source": []
  },
  {
   "cell_type": "code",
   "execution_count": null,
   "metadata": {},
   "outputs": [],
   "source": []
  },
  {
   "cell_type": "code",
   "execution_count": null,
   "metadata": {},
   "outputs": [],
   "source": []
  },
  {
   "cell_type": "code",
   "execution_count": null,
   "metadata": {},
   "outputs": [],
   "source": []
  },
  {
   "cell_type": "code",
   "execution_count": null,
   "metadata": {},
   "outputs": [],
   "source": []
  },
  {
   "cell_type": "code",
   "execution_count": null,
   "metadata": {},
   "outputs": [],
   "source": []
  },
  {
   "cell_type": "code",
   "execution_count": null,
   "metadata": {},
   "outputs": [],
   "source": []
  }
 ],
 "metadata": {
  "kernelspec": {
   "display_name": "Glue PySpark",
   "language": "python",
   "name": "glue_pyspark"
  },
  "language_info": {
   "codemirror_mode": {
    "name": "python",
    "version": 3
   },
   "file_extension": ".py",
   "mimetype": "text/x-python",
   "name": "Python_Glue_Session",
   "pygments_lexer": "python3"
  }
 },
 "nbformat": 4,
 "nbformat_minor": 4
}
